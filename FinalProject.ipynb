{
 "cells": [
  {
   "cell_type": "markdown",
   "metadata": {},
   "source": [
    "# How to Win a Data Science Competition: Learn from Top Kagglers\n",
    "This is the notebook for the final project of the coursera. All packages used are reported in requirements.txt file in the current directory"
   ]
  },
  {
   "cell_type": "markdown",
   "metadata": {},
   "source": [
    "importing libraries"
   ]
  },
  {
   "cell_type": "code",
   "execution_count": 1,
   "metadata": {
    "collapsed": false
   },
   "outputs": [],
   "source": [
    "import numpy as np\n",
    "import pandas as pd\n",
    "import time, sys, gc, pickle\n",
    "\n",
    "from itertools import product\n",
    "\n",
    "import seaborn as sns\n",
    "import matplotlib.pyplot as plt\n",
    "%matplotlib inline"
   ]
  },
  {
   "cell_type": "markdown",
   "metadata": {},
   "source": [
    "Loading all the data"
   ]
  },
  {
   "cell_type": "code",
   "execution_count": 2,
   "metadata": {
    "collapsed": false
   },
   "outputs": [],
   "source": [
    "train = pd.read_csv(\"competitive-data-science-predict-future-sales/sales_train.csv\")\n",
    "test = pd.read_csv(\"competitive-data-science-predict-future-sales/test.csv\")\n",
    "cats = pd.read_csv(\"competitive-data-science-predict-future-sales/item_categories.csv\")\n",
    "items = pd.read_csv(\"competitive-data-science-predict-future-sales/items.csv\")\n",
    "shops = pd.read_csv(\"competitive-data-science-predict-future-sales/shops.csv\")\n",
    "sample_sub = pd.read_csv(\"competitive-data-science-predict-future-sales/sample_submission.csv\")"
   ]
  },
  {
   "cell_type": "markdown",
   "metadata": {},
   "source": [
    "# EDA"
   ]
  },
  {
   "cell_type": "markdown",
   "metadata": {},
   "source": [
    "Checking the data"
   ]
  },
  {
   "cell_type": "code",
   "execution_count": 3,
   "metadata": {
    "collapsed": false
   },
   "outputs": [
    {
     "data": {
      "text/html": [
       "<div>\n",
       "<style scoped>\n",
       "    .dataframe tbody tr th:only-of-type {\n",
       "        vertical-align: middle;\n",
       "    }\n",
       "\n",
       "    .dataframe tbody tr th {\n",
       "        vertical-align: top;\n",
       "    }\n",
       "\n",
       "    .dataframe thead th {\n",
       "        text-align: right;\n",
       "    }\n",
       "</style>\n",
       "<table border=\"1\" class=\"dataframe\">\n",
       "  <thead>\n",
       "    <tr style=\"text-align: right;\">\n",
       "      <th></th>\n",
       "      <th>date</th>\n",
       "      <th>date_block_num</th>\n",
       "      <th>shop_id</th>\n",
       "      <th>item_id</th>\n",
       "      <th>item_price</th>\n",
       "      <th>item_cnt_day</th>\n",
       "    </tr>\n",
       "  </thead>\n",
       "  <tbody>\n",
       "    <tr>\n",
       "      <th>0</th>\n",
       "      <td>02.01.2013</td>\n",
       "      <td>0</td>\n",
       "      <td>59</td>\n",
       "      <td>22154</td>\n",
       "      <td>999.00</td>\n",
       "      <td>1.0</td>\n",
       "    </tr>\n",
       "    <tr>\n",
       "      <th>1</th>\n",
       "      <td>03.01.2013</td>\n",
       "      <td>0</td>\n",
       "      <td>25</td>\n",
       "      <td>2552</td>\n",
       "      <td>899.00</td>\n",
       "      <td>1.0</td>\n",
       "    </tr>\n",
       "    <tr>\n",
       "      <th>2</th>\n",
       "      <td>05.01.2013</td>\n",
       "      <td>0</td>\n",
       "      <td>25</td>\n",
       "      <td>2552</td>\n",
       "      <td>899.00</td>\n",
       "      <td>-1.0</td>\n",
       "    </tr>\n",
       "    <tr>\n",
       "      <th>3</th>\n",
       "      <td>06.01.2013</td>\n",
       "      <td>0</td>\n",
       "      <td>25</td>\n",
       "      <td>2554</td>\n",
       "      <td>1709.05</td>\n",
       "      <td>1.0</td>\n",
       "    </tr>\n",
       "    <tr>\n",
       "      <th>4</th>\n",
       "      <td>15.01.2013</td>\n",
       "      <td>0</td>\n",
       "      <td>25</td>\n",
       "      <td>2555</td>\n",
       "      <td>1099.00</td>\n",
       "      <td>1.0</td>\n",
       "    </tr>\n",
       "  </tbody>\n",
       "</table>\n",
       "</div>"
      ],
      "text/plain": [
       "         date  date_block_num  shop_id  item_id  item_price  item_cnt_day\n",
       "0  02.01.2013               0       59    22154      999.00           1.0\n",
       "1  03.01.2013               0       25     2552      899.00           1.0\n",
       "2  05.01.2013               0       25     2552      899.00          -1.0\n",
       "3  06.01.2013               0       25     2554     1709.05           1.0\n",
       "4  15.01.2013               0       25     2555     1099.00           1.0"
      ]
     },
     "execution_count": 3,
     "metadata": {},
     "output_type": "execute_result"
    }
   ],
   "source": [
    "train.head()"
   ]
  },
  {
   "cell_type": "code",
   "execution_count": 4,
   "metadata": {
    "collapsed": false
   },
   "outputs": [
    {
     "name": "stdout",
     "output_type": "stream",
     "text": [
      "<class 'pandas.core.frame.DataFrame'>\n",
      "RangeIndex: 2935849 entries, 0 to 2935848\n",
      "Data columns (total 6 columns):\n",
      "date              object\n",
      "date_block_num    int64\n",
      "shop_id           int64\n",
      "item_id           int64\n",
      "item_price        float64\n",
      "item_cnt_day      float64\n",
      "dtypes: float64(2), int64(3), object(1)\n",
      "memory usage: 134.4+ MB\n"
     ]
    }
   ],
   "source": [
    "train.info()"
   ]
  },
  {
   "cell_type": "code",
   "execution_count": 5,
   "metadata": {
    "collapsed": false
   },
   "outputs": [
    {
     "data": {
      "text/plain": [
       "(2935849, 60, 21807, 0, 33)"
      ]
     },
     "execution_count": 5,
     "metadata": {},
     "output_type": "execute_result"
    }
   ],
   "source": [
    "len(train), train.shop_id.nunique(), train.item_id.nunique(), train.date_block_num.min(), train.date_block_num.max()"
   ]
  },
  {
   "cell_type": "code",
   "execution_count": 6,
   "metadata": {
    "collapsed": false
   },
   "outputs": [
    {
     "data": {
      "text/html": [
       "<div>\n",
       "<style scoped>\n",
       "    .dataframe tbody tr th:only-of-type {\n",
       "        vertical-align: middle;\n",
       "    }\n",
       "\n",
       "    .dataframe tbody tr th {\n",
       "        vertical-align: top;\n",
       "    }\n",
       "\n",
       "    .dataframe thead th {\n",
       "        text-align: right;\n",
       "    }\n",
       "</style>\n",
       "<table border=\"1\" class=\"dataframe\">\n",
       "  <thead>\n",
       "    <tr style=\"text-align: right;\">\n",
       "      <th></th>\n",
       "      <th>ID</th>\n",
       "      <th>shop_id</th>\n",
       "      <th>item_id</th>\n",
       "    </tr>\n",
       "  </thead>\n",
       "  <tbody>\n",
       "    <tr>\n",
       "      <th>0</th>\n",
       "      <td>0</td>\n",
       "      <td>5</td>\n",
       "      <td>5037</td>\n",
       "    </tr>\n",
       "    <tr>\n",
       "      <th>1</th>\n",
       "      <td>1</td>\n",
       "      <td>5</td>\n",
       "      <td>5320</td>\n",
       "    </tr>\n",
       "    <tr>\n",
       "      <th>2</th>\n",
       "      <td>2</td>\n",
       "      <td>5</td>\n",
       "      <td>5233</td>\n",
       "    </tr>\n",
       "    <tr>\n",
       "      <th>3</th>\n",
       "      <td>3</td>\n",
       "      <td>5</td>\n",
       "      <td>5232</td>\n",
       "    </tr>\n",
       "    <tr>\n",
       "      <th>4</th>\n",
       "      <td>4</td>\n",
       "      <td>5</td>\n",
       "      <td>5268</td>\n",
       "    </tr>\n",
       "  </tbody>\n",
       "</table>\n",
       "</div>"
      ],
      "text/plain": [
       "   ID  shop_id  item_id\n",
       "0   0        5     5037\n",
       "1   1        5     5320\n",
       "2   2        5     5233\n",
       "3   3        5     5232\n",
       "4   4        5     5268"
      ]
     },
     "execution_count": 6,
     "metadata": {},
     "output_type": "execute_result"
    }
   ],
   "source": [
    "test.head()"
   ]
  },
  {
   "cell_type": "code",
   "execution_count": 7,
   "metadata": {
    "collapsed": false
   },
   "outputs": [
    {
     "name": "stdout",
     "output_type": "stream",
     "text": [
      "<class 'pandas.core.frame.DataFrame'>\n",
      "RangeIndex: 214200 entries, 0 to 214199\n",
      "Data columns (total 3 columns):\n",
      "ID         214200 non-null int64\n",
      "shop_id    214200 non-null int64\n",
      "item_id    214200 non-null int64\n",
      "dtypes: int64(3)\n",
      "memory usage: 4.9 MB\n"
     ]
    }
   ],
   "source": [
    "test.info()"
   ]
  },
  {
   "cell_type": "code",
   "execution_count": 8,
   "metadata": {
    "collapsed": false
   },
   "outputs": [
    {
     "data": {
      "text/plain": [
       "(2935849, 60, 21807)"
      ]
     },
     "execution_count": 8,
     "metadata": {},
     "output_type": "execute_result"
    }
   ],
   "source": [
    "len(train), train.shop_id.nunique(), train.item_id.nunique()"
   ]
  },
  {
   "cell_type": "markdown",
   "metadata": {},
   "source": [
    "There are 2935848 transactions in the trainig set and 214200 in the test set. There are 60x21807 unique pairs of shop-item objects sold in the past 34 months. We need to generate a prediction of of future sells of such objects for the 35th month."
   ]
  },
  {
   "cell_type": "markdown",
   "metadata": {},
   "source": [
    "Let's see if there are outliners."
   ]
  },
  {
   "cell_type": "code",
   "execution_count": 9,
   "metadata": {
    "collapsed": false
   },
   "outputs": [
    {
     "data": {
      "text/plain": [
       "<matplotlib.axes._subplots.AxesSubplot at 0x1215601d0>"
      ]
     },
     "execution_count": 9,
     "metadata": {},
     "output_type": "execute_result"
    },
    {
     "data": {
      "image/png": "[encoded data removed]",
      "text/plain": [
       "<Figure size 1296x432 with 2 Axes>"
      ]
     },
     "metadata": {
      "needs_background": "light"
     },
     "output_type": "display_data"
    }
   ],
   "source": [
    "fig, axes = plt.subplots(nrows=1, ncols=2, figsize=(18,6))\n",
    "sns.boxplot(x=train.item_cnt_day, ax=axes[0])\n",
    "sns.boxplot(x=train.item_price, ax=axes[1])"
   ]
  },
  {
   "cell_type": "code",
   "execution_count": 10,
   "metadata": {
    "collapsed": false
   },
   "outputs": [],
   "source": [
    "# remove outliers\n",
    "train = train[train.item_price<100000]\n",
    "train = train[train.item_cnt_day<1001]"
   ]
  },
  {
   "cell_type": "code",
   "execution_count": 11,
   "metadata": {
    "collapsed": true
   },
   "outputs": [],
   "source": [
    "# moreover, there is one object with item_price lower than 0. replace it with the median\n",
    "median = train[(train.shop_id==32)&(train.item_id==2973)&(train.date_block_num==4)&(train.item_price>0)].item_price.median()\n",
    "train.loc[train.item_price<0, 'item_price'] = median"
   ]
  },
  {
   "cell_type": "code",
   "execution_count": 12,
   "metadata": {
    "collapsed": false
   },
   "outputs": [
    {
     "data": {
      "image/png": "[encoded data removed]",
      "text/plain": [
       "<Figure size 1296x432 with 1 Axes>"
      ]
     },
     "metadata": {
      "needs_background": "light"
     },
     "output_type": "display_data"
    }
   ],
   "source": [
    "# Which category has the higher number of items?\n",
    "x=items.groupby(['item_category_id']).count()\n",
    "x=x.sort_values(by='item_id',ascending=False)\n",
    "x=x.reset_index()\n",
    "fig, ax = plt.subplots(figsize=(18,6))\n",
    "ax=sns.barplot(x.item_category_id, x.item_id, alpha=0.8)\n",
    "plt.title(\"Items per Category\")\n",
    "plt.ylabel('# of items', fontsize=12)\n",
    "plt.xlabel('Category', fontsize=12)\n",
    "plt.show()"
   ]
  },
  {
   "cell_type": "code",
   "execution_count": 13,
   "metadata": {
    "collapsed": false
   },
   "outputs": [
    {
     "data": {
      "text/plain": [
       "[<matplotlib.lines.Line2D at 0x1238926d8>]"
      ]
     },
     "execution_count": 13,
     "metadata": {},
     "output_type": "execute_result"
    },
    {
     "data": {
      "image/png": "[encoded data removed]",
      "text/plain": [
       "<Figure size 1152x576 with 1 Axes>"
      ]
     },
     "metadata": {
      "needs_background": "light"
     },
     "output_type": "display_data"
    }
   ],
   "source": [
    "#Let's plot the total sales for each month. \n",
    "ts=train.groupby([\"date_block_num\"])[\"item_cnt_day\"].sum()\n",
    "fig, ax = plt.subplots(figsize=(16,8))\n",
    "plt.title('Total Sales of the company')\n",
    "plt.xlabel('Time')\n",
    "plt.ylabel('Sales')\n",
    "ax.plot(ts)"
   ]
  },
  {
   "cell_type": "markdown",
   "metadata": {},
   "source": [
    "# Investigation for data leaks\n",
    "\n",
    "We can find the mean of the target variable on the public leaderboard by probing it with a submition of all 0 and an other one with all 1.\n",
    "The public score of the first one is 1.25011 (all zeros= mse_0)\n",
    "The public score of the second one is 1.41241 (all ones= mse_1)\n",
    "The resulting mean target value for the public leader board is 0.2839. We must check at the end of our final submition to have a similar value"
   ]
  },
  {
   "cell_type": "code",
   "execution_count": 14,
   "metadata": {
    "collapsed": false
   },
   "outputs": [
    {
     "name": "stdout",
     "output_type": "stream",
     "text": [
      "0.28393650200000026\n"
     ]
    }
   ],
   "source": [
    "N = 214200.\n",
    "mse_0 = 1.25011**2\n",
    "mse_1 = 1.41241**2\n",
    "sum_y_true = ((mse_1 * N) - (mse_0 * N) - N) / -2.\n",
    "mean_y_true = sum_y_true / N\n",
    "print(mean_y_true)"
   ]
  },
  {
   "cell_type": "markdown",
   "metadata": {
    "collapsed": false
   },
   "source": [
    "# Feature Engineering\n",
    "Let's create some features. we need to organize the train set as in the test set."
   ]
  },
  {
   "cell_type": "code",
   "execution_count": 15,
   "metadata": {
    "collapsed": false
   },
   "outputs": [
    {
     "data": {
      "text/plain": [
       "15.740506887435913"
      ]
     },
     "execution_count": 15,
     "metadata": {},
     "output_type": "execute_result"
    }
   ],
   "source": [
    "t = time.time()\n",
    "matrix = []\n",
    "cols = ['date_block_num','shop_id','item_id']\n",
    "for i in range(34):\n",
    "    sales = train[train.date_block_num==i]\n",
    "    matrix.append(np.array(list(product([i], sales.shop_id.unique(), sales.item_id.unique())), dtype='int16'))\n",
    "    \n",
    "matrix = pd.DataFrame(np.vstack(matrix), columns=cols)\n",
    "matrix['date_block_num'] = matrix['date_block_num'].astype(np.int8)\n",
    "matrix['shop_id'] = matrix['shop_id'].astype(np.int8)\n",
    "matrix['item_id'] = matrix['item_id'].astype(np.int16)\n",
    "matrix.sort_values(cols,inplace=True)\n",
    "time.time() - t"
   ]
  },
  {
   "cell_type": "code",
   "execution_count": 16,
   "metadata": {
    "collapsed": false
   },
   "outputs": [
    {
     "data": {
      "text/html": [
       "<div>\n",
       "<style scoped>\n",
       "    .dataframe tbody tr th:only-of-type {\n",
       "        vertical-align: middle;\n",
       "    }\n",
       "\n",
       "    .dataframe tbody tr th {\n",
       "        vertical-align: top;\n",
       "    }\n",
       "\n",
       "    .dataframe thead th {\n",
       "        text-align: right;\n",
       "    }\n",
       "</style>\n",
       "<table border=\"1\" class=\"dataframe\">\n",
       "  <thead>\n",
       "    <tr style=\"text-align: right;\">\n",
       "      <th></th>\n",
       "      <th>date_block_num</th>\n",
       "      <th>shop_id</th>\n",
       "      <th>item_id</th>\n",
       "    </tr>\n",
       "  </thead>\n",
       "  <tbody>\n",
       "    <tr>\n",
       "      <th>139255</th>\n",
       "      <td>0</td>\n",
       "      <td>0</td>\n",
       "      <td>19</td>\n",
       "    </tr>\n",
       "    <tr>\n",
       "      <th>141495</th>\n",
       "      <td>0</td>\n",
       "      <td>0</td>\n",
       "      <td>27</td>\n",
       "    </tr>\n",
       "    <tr>\n",
       "      <th>144968</th>\n",
       "      <td>0</td>\n",
       "      <td>0</td>\n",
       "      <td>28</td>\n",
       "    </tr>\n",
       "    <tr>\n",
       "      <th>142661</th>\n",
       "      <td>0</td>\n",
       "      <td>0</td>\n",
       "      <td>29</td>\n",
       "    </tr>\n",
       "    <tr>\n",
       "      <th>138947</th>\n",
       "      <td>0</td>\n",
       "      <td>0</td>\n",
       "      <td>32</td>\n",
       "    </tr>\n",
       "  </tbody>\n",
       "</table>\n",
       "</div>"
      ],
      "text/plain": [
       "        date_block_num  shop_id  item_id\n",
       "139255               0        0       19\n",
       "141495               0        0       27\n",
       "144968               0        0       28\n",
       "142661               0        0       29\n",
       "138947               0        0       32"
      ]
     },
     "execution_count": 16,
     "metadata": {},
     "output_type": "execute_result"
    }
   ],
   "source": [
    "matrix.head()"
   ]
  },
  {
   "cell_type": "code",
   "execution_count": 17,
   "metadata": {
    "collapsed": false
   },
   "outputs": [],
   "source": [
    "group = train.groupby(['date_block_num','shop_id','item_id']).agg({'item_cnt_day': ['sum']})\n",
    "group.columns = ['item_cnt_month']\n",
    "group.reset_index(inplace=True)\n",
    "\n",
    "matrix = pd.merge(matrix, group, on=cols, how='left')"
   ]
  },
  {
   "cell_type": "code",
   "execution_count": 18,
   "metadata": {
    "collapsed": false
   },
   "outputs": [],
   "source": [
    "matrix['item_cnt_month'] = matrix['item_cnt_month'].fillna(0).clip(0,20)"
   ]
  },
  {
   "cell_type": "code",
   "execution_count": 19,
   "metadata": {
    "collapsed": false
   },
   "outputs": [],
   "source": [
    "test['date_block_num'] = 34\n",
    "test['date_block_num'] = test['date_block_num'].astype(np.int8)\n",
    "test['shop_id'] = test['shop_id'].astype(np.int8)\n",
    "test['item_id'] = test['item_id'].astype(np.int16)"
   ]
  },
  {
   "cell_type": "code",
   "execution_count": 20,
   "metadata": {
    "collapsed": false
   },
   "outputs": [],
   "source": [
    "#lets join train and test set\n",
    "matrix = pd.concat([matrix, test], ignore_index=True, sort=False, keys=cols)\n",
    "matrix.fillna(0, inplace=True) # 34 month"
   ]
  },
  {
   "cell_type": "markdown",
   "metadata": {},
   "source": [
    "adding some categorical features: item_category_id, month, days per month"
   ]
  },
  {
   "cell_type": "code",
   "execution_count": 21,
   "metadata": {
    "collapsed": false
   },
   "outputs": [],
   "source": [
    "matrix = pd.merge(matrix, items.drop(\"item_name\", axis=1), on=['item_id'], how='left')\n",
    "matrix['item_category_id'] = matrix['item_category_id'].astype(np.int8)\n",
    "matrix['month'] = matrix['date_block_num'] % 12\n",
    "days = pd.Series([31,28,31,30,31,30,31,31,30,31,30,31])\n",
    "matrix['days'] = matrix['month'].map(days).astype(np.int8)"
   ]
  },
  {
   "cell_type": "markdown",
   "metadata": {
    "collapsed": true
   },
   "source": [
    "adding lag features"
   ]
  },
  {
   "cell_type": "code",
   "execution_count": 23,
   "metadata": {
    "collapsed": false
   },
   "outputs": [],
   "source": [
    "#convinient function for creating lag features\n",
    "def lag_feature(df, lags, col):\n",
    "    tmp = df[['date_block_num','shop_id','item_id',col]]\n",
    "    for i in lags:\n",
    "        shifted = tmp.copy()\n",
    "        shifted.columns = ['date_block_num','shop_id','item_id', col+'_lag_'+str(i)]\n",
    "        shifted['date_block_num'] += i\n",
    "        df = pd.merge(df, shifted, on=['date_block_num','shop_id','item_id'], how='left')\n",
    "    return df"
   ]
  },
  {
   "cell_type": "code",
   "execution_count": 24,
   "metadata": {
    "collapsed": false
   },
   "outputs": [
    {
     "data": {
      "text/plain": [
       "44.90112781524658"
      ]
     },
     "execution_count": 24,
     "metadata": {},
     "output_type": "execute_result"
    }
   ],
   "source": [
    "# creating lag features\n",
    "t = time.time()\n",
    "matrix = lag_feature(matrix, [1,2,3,6,12], 'item_cnt_month')\n",
    "time.time() - t"
   ]
  },
  {
   "cell_type": "code",
   "execution_count": 25,
   "metadata": {
    "collapsed": false
   },
   "outputs": [
    {
     "data": {
      "text/html": [
       "<div>\n",
       "<style scoped>\n",
       "    .dataframe tbody tr th:only-of-type {\n",
       "        vertical-align: middle;\n",
       "    }\n",
       "\n",
       "    .dataframe tbody tr th {\n",
       "        vertical-align: top;\n",
       "    }\n",
       "\n",
       "    .dataframe thead th {\n",
       "        text-align: right;\n",
       "    }\n",
       "</style>\n",
       "<table border=\"1\" class=\"dataframe\">\n",
       "  <thead>\n",
       "    <tr style=\"text-align: right;\">\n",
       "      <th></th>\n",
       "      <th>date_block_num</th>\n",
       "      <th>shop_id</th>\n",
       "      <th>item_id</th>\n",
       "      <th>item_cnt_month</th>\n",
       "      <th>ID</th>\n",
       "      <th>item_category_id</th>\n",
       "      <th>month</th>\n",
       "      <th>days</th>\n",
       "      <th>item_cnt_month_lag_1</th>\n",
       "      <th>item_cnt_month_lag_2</th>\n",
       "      <th>item_cnt_month_lag_3</th>\n",
       "      <th>item_cnt_month_lag_6</th>\n",
       "      <th>item_cnt_month_lag_12</th>\n",
       "    </tr>\n",
       "  </thead>\n",
       "  <tbody>\n",
       "    <tr>\n",
       "      <th>0</th>\n",
       "      <td>0</td>\n",
       "      <td>0</td>\n",
       "      <td>19</td>\n",
       "      <td>0.0</td>\n",
       "      <td>0.0</td>\n",
       "      <td>40</td>\n",
       "      <td>0</td>\n",
       "      <td>31</td>\n",
       "      <td>NaN</td>\n",
       "      <td>NaN</td>\n",
       "      <td>NaN</td>\n",
       "      <td>NaN</td>\n",
       "      <td>NaN</td>\n",
       "    </tr>\n",
       "    <tr>\n",
       "      <th>1</th>\n",
       "      <td>0</td>\n",
       "      <td>0</td>\n",
       "      <td>27</td>\n",
       "      <td>0.0</td>\n",
       "      <td>0.0</td>\n",
       "      <td>19</td>\n",
       "      <td>0</td>\n",
       "      <td>31</td>\n",
       "      <td>NaN</td>\n",
       "      <td>NaN</td>\n",
       "      <td>NaN</td>\n",
       "      <td>NaN</td>\n",
       "      <td>NaN</td>\n",
       "    </tr>\n",
       "    <tr>\n",
       "      <th>2</th>\n",
       "      <td>0</td>\n",
       "      <td>0</td>\n",
       "      <td>28</td>\n",
       "      <td>0.0</td>\n",
       "      <td>0.0</td>\n",
       "      <td>30</td>\n",
       "      <td>0</td>\n",
       "      <td>31</td>\n",
       "      <td>NaN</td>\n",
       "      <td>NaN</td>\n",
       "      <td>NaN</td>\n",
       "      <td>NaN</td>\n",
       "      <td>NaN</td>\n",
       "    </tr>\n",
       "    <tr>\n",
       "      <th>3</th>\n",
       "      <td>0</td>\n",
       "      <td>0</td>\n",
       "      <td>29</td>\n",
       "      <td>0.0</td>\n",
       "      <td>0.0</td>\n",
       "      <td>23</td>\n",
       "      <td>0</td>\n",
       "      <td>31</td>\n",
       "      <td>NaN</td>\n",
       "      <td>NaN</td>\n",
       "      <td>NaN</td>\n",
       "      <td>NaN</td>\n",
       "      <td>NaN</td>\n",
       "    </tr>\n",
       "    <tr>\n",
       "      <th>4</th>\n",
       "      <td>0</td>\n",
       "      <td>0</td>\n",
       "      <td>32</td>\n",
       "      <td>6.0</td>\n",
       "      <td>0.0</td>\n",
       "      <td>40</td>\n",
       "      <td>0</td>\n",
       "      <td>31</td>\n",
       "      <td>NaN</td>\n",
       "      <td>NaN</td>\n",
       "      <td>NaN</td>\n",
       "      <td>NaN</td>\n",
       "      <td>NaN</td>\n",
       "    </tr>\n",
       "    <tr>\n",
       "      <th>5</th>\n",
       "      <td>0</td>\n",
       "      <td>0</td>\n",
       "      <td>33</td>\n",
       "      <td>3.0</td>\n",
       "      <td>0.0</td>\n",
       "      <td>37</td>\n",
       "      <td>0</td>\n",
       "      <td>31</td>\n",
       "      <td>NaN</td>\n",
       "      <td>NaN</td>\n",
       "      <td>NaN</td>\n",
       "      <td>NaN</td>\n",
       "      <td>NaN</td>\n",
       "    </tr>\n",
       "    <tr>\n",
       "      <th>6</th>\n",
       "      <td>0</td>\n",
       "      <td>0</td>\n",
       "      <td>34</td>\n",
       "      <td>0.0</td>\n",
       "      <td>0.0</td>\n",
       "      <td>40</td>\n",
       "      <td>0</td>\n",
       "      <td>31</td>\n",
       "      <td>NaN</td>\n",
       "      <td>NaN</td>\n",
       "      <td>NaN</td>\n",
       "      <td>NaN</td>\n",
       "      <td>NaN</td>\n",
       "    </tr>\n",
       "    <tr>\n",
       "      <th>7</th>\n",
       "      <td>0</td>\n",
       "      <td>0</td>\n",
       "      <td>35</td>\n",
       "      <td>1.0</td>\n",
       "      <td>0.0</td>\n",
       "      <td>40</td>\n",
       "      <td>0</td>\n",
       "      <td>31</td>\n",
       "      <td>NaN</td>\n",
       "      <td>NaN</td>\n",
       "      <td>NaN</td>\n",
       "      <td>NaN</td>\n",
       "      <td>NaN</td>\n",
       "    </tr>\n",
       "    <tr>\n",
       "      <th>8</th>\n",
       "      <td>0</td>\n",
       "      <td>0</td>\n",
       "      <td>40</td>\n",
       "      <td>0.0</td>\n",
       "      <td>0.0</td>\n",
       "      <td>57</td>\n",
       "      <td>0</td>\n",
       "      <td>31</td>\n",
       "      <td>NaN</td>\n",
       "      <td>NaN</td>\n",
       "      <td>NaN</td>\n",
       "      <td>NaN</td>\n",
       "      <td>NaN</td>\n",
       "    </tr>\n",
       "    <tr>\n",
       "      <th>9</th>\n",
       "      <td>0</td>\n",
       "      <td>0</td>\n",
       "      <td>41</td>\n",
       "      <td>0.0</td>\n",
       "      <td>0.0</td>\n",
       "      <td>57</td>\n",
       "      <td>0</td>\n",
       "      <td>31</td>\n",
       "      <td>NaN</td>\n",
       "      <td>NaN</td>\n",
       "      <td>NaN</td>\n",
       "      <td>NaN</td>\n",
       "      <td>NaN</td>\n",
       "    </tr>\n",
       "  </tbody>\n",
       "</table>\n",
       "</div>"
      ],
      "text/plain": [
       "   date_block_num  shop_id  item_id  item_cnt_month   ID  item_category_id  \\\n",
       "0               0        0       19             0.0  0.0                40   \n",
       "1               0        0       27             0.0  0.0                19   \n",
       "2               0        0       28             0.0  0.0                30   \n",
       "3               0        0       29             0.0  0.0                23   \n",
       "4               0        0       32             6.0  0.0                40   \n",
       "5               0        0       33             3.0  0.0                37   \n",
       "6               0        0       34             0.0  0.0                40   \n",
       "7               0        0       35             1.0  0.0                40   \n",
       "8               0        0       40             0.0  0.0                57   \n",
       "9               0        0       41             0.0  0.0                57   \n",
       "\n",
       "   month  days  item_cnt_month_lag_1  item_cnt_month_lag_2  \\\n",
       "0      0    31                   NaN                   NaN   \n",
       "1      0    31                   NaN                   NaN   \n",
       "2      0    31                   NaN                   NaN   \n",
       "3      0    31                   NaN                   NaN   \n",
       "4      0    31                   NaN                   NaN   \n",
       "5      0    31                   NaN                   NaN   \n",
       "6      0    31                   NaN                   NaN   \n",
       "7      0    31                   NaN                   NaN   \n",
       "8      0    31                   NaN                   NaN   \n",
       "9      0    31                   NaN                   NaN   \n",
       "\n",
       "   item_cnt_month_lag_3  item_cnt_month_lag_6  item_cnt_month_lag_12  \n",
       "0                   NaN                   NaN                    NaN  \n",
       "1                   NaN                   NaN                    NaN  \n",
       "2                   NaN                   NaN                    NaN  \n",
       "3                   NaN                   NaN                    NaN  \n",
       "4                   NaN                   NaN                    NaN  \n",
       "5                   NaN                   NaN                    NaN  \n",
       "6                   NaN                   NaN                    NaN  \n",
       "7                   NaN                   NaN                    NaN  \n",
       "8                   NaN                   NaN                    NaN  \n",
       "9                   NaN                   NaN                    NaN  "
      ]
     },
     "execution_count": 25,
     "metadata": {},
     "output_type": "execute_result"
    }
   ],
   "source": [
    "matrix.head(10)"
   ]
  },
  {
   "cell_type": "markdown",
   "metadata": {},
   "source": [
    "Mean Encoded Features (and related lag features). I am currently not using mean features of the current month but of previous ones (as defined in the lag)."
   ]
  },
  {
   "cell_type": "code",
   "execution_count": 26,
   "metadata": {
    "collapsed": false
   },
   "outputs": [
    {
     "data": {
      "text/plain": [
       "17.92462396621704"
      ]
     },
     "execution_count": 26,
     "metadata": {},
     "output_type": "execute_result"
    }
   ],
   "source": [
    "# creating mean encoded features\n",
    "t = time.time()\n",
    "group = matrix.groupby(['date_block_num']).agg({'item_cnt_month': ['mean']})\n",
    "group.columns = [ 'month_avg_item_cnt' ]\n",
    "group.reset_index(inplace=True)\n",
    "\n",
    "matrix = pd.merge(matrix, group, on=['date_block_num'], how='left')\n",
    "matrix['month_avg_item_cnt'] = matrix['month_avg_item_cnt'].astype(np.float16)\n",
    "matrix = lag_feature(matrix, [1], 'month_avg_item_cnt')\n",
    "matrix.drop(['month_avg_item_cnt'], axis=1, inplace=True)\n",
    "time.time() - t"
   ]
  },
  {
   "cell_type": "code",
   "execution_count": 27,
   "metadata": {
    "collapsed": false
   },
   "outputs": [
    {
     "data": {
      "text/plain": [
       "56.17659091949463"
      ]
     },
     "execution_count": 27,
     "metadata": {},
     "output_type": "execute_result"
    }
   ],
   "source": [
    "t = time.time()\n",
    "group = matrix.groupby(['date_block_num', 'item_id']).agg({'item_cnt_month': ['mean']})\n",
    "group.columns = [ 'month_itemid_avg_item_cnt' ]\n",
    "group.reset_index(inplace=True)\n",
    "\n",
    "matrix = pd.merge(matrix, group, on=['date_block_num','item_id'], how='left')\n",
    "matrix['month_itemid_avg_item_cnt'] = matrix['month_itemid_avg_item_cnt'].astype(np.float16)\n",
    "matrix = lag_feature(matrix, [1,2,3,6,12], 'month_itemid_avg_item_cnt')\n",
    "matrix.drop(['month_itemid_avg_item_cnt'], axis=1, inplace=True)\n",
    "time.time() - t"
   ]
  },
  {
   "cell_type": "code",
   "execution_count": 28,
   "metadata": {
    "collapsed": false
   },
   "outputs": [
    {
     "data": {
      "text/plain": [
       "61.045785903930664"
      ]
     },
     "execution_count": 28,
     "metadata": {},
     "output_type": "execute_result"
    }
   ],
   "source": [
    "t = time.time()\n",
    "group = matrix.groupby(['date_block_num', 'shop_id']).agg({'item_cnt_month': ['mean']})\n",
    "group.columns = [ 'month_shopid_avg_item_cnt' ]\n",
    "group.reset_index(inplace=True)\n",
    "\n",
    "matrix = pd.merge(matrix, group, on=['date_block_num','shop_id'], how='left')\n",
    "matrix['date_shop_avg_item_cnt'] = matrix['month_shopid_avg_item_cnt'].astype(np.float16)\n",
    "matrix = lag_feature(matrix, [1,2,3,6,12], 'month_shopid_avg_item_cnt')\n",
    "matrix.drop(['month_shopid_avg_item_cnt'], axis=1, inplace=True)\n",
    "time.time() - t"
   ]
  },
  {
   "cell_type": "code",
   "execution_count": 29,
   "metadata": {
    "collapsed": false
   },
   "outputs": [
    {
     "data": {
      "text/plain": [
       "26.995256900787354"
      ]
     },
     "execution_count": 29,
     "metadata": {},
     "output_type": "execute_result"
    }
   ],
   "source": [
    "t = time.time()\n",
    "group = matrix.groupby(['date_block_num', 'item_category_id']).agg({'item_cnt_month': ['mean']})\n",
    "group.columns = [ 'month_catid_avg_item_cnt' ]\n",
    "group.reset_index(inplace=True)\n",
    "\n",
    "matrix = pd.merge(matrix, group, on=['date_block_num','item_category_id'], how='left')\n",
    "matrix['month_catid_avg_item_cnt'] = matrix['month_catid_avg_item_cnt'].astype(np.float16)\n",
    "matrix = lag_feature(matrix, [1], 'month_catid_avg_item_cnt')\n",
    "matrix.drop(['month_catid_avg_item_cnt'], axis=1, inplace=True)\n",
    "time.time() - t"
   ]
  },
  {
   "cell_type": "code",
   "execution_count": 30,
   "metadata": {
    "collapsed": false
   },
   "outputs": [
    {
     "data": {
      "text/plain": [
       "31.294289112091064"
      ]
     },
     "execution_count": 30,
     "metadata": {},
     "output_type": "execute_result"
    }
   ],
   "source": [
    "t = time.time()\n",
    "group = matrix.groupby(['date_block_num', 'shop_id', 'item_category_id']).agg({'item_cnt_month': ['mean']})\n",
    "group.columns = ['month_shopid_catid_avg_item_cnt']\n",
    "group.reset_index(inplace=True)\n",
    "\n",
    "matrix = pd.merge(matrix, group, on=['date_block_num', 'shop_id', 'item_category_id'], how='left')\n",
    "matrix['month_shopid_catid_avg_item_cnt'] = matrix['month_shopid_catid_avg_item_cnt'].astype(np.float16)\n",
    "matrix = lag_feature(matrix, [1], 'month_shopid_catid_avg_item_cnt')\n",
    "matrix.drop(['month_shopid_catid_avg_item_cnt'], axis=1, inplace=True)\n",
    "time.time() - t"
   ]
  },
  {
   "cell_type": "code",
   "execution_count": 31,
   "metadata": {
    "collapsed": false
   },
   "outputs": [
    {
     "data": {
      "text/plain": [
       "58.63926601409912"
      ]
     },
     "execution_count": 31,
     "metadata": {},
     "output_type": "execute_result"
    }
   ],
   "source": [
    "t = time.time()\n",
    "train['revenue'] = train['item_price'] *  train['item_cnt_day']\n",
    "group = train.groupby(['date_block_num','shop_id']).agg({'revenue': ['sum']})\n",
    "group.columns = ['monthly_shop_revenue']\n",
    "group.reset_index(inplace=True)\n",
    "\n",
    "matrix = pd.merge(matrix, group, on=['date_block_num','shop_id'], how='left')\n",
    "matrix['monthly_shop_revenue'] = matrix['monthly_shop_revenue'].astype(np.float32)\n",
    "matrix = lag_feature(matrix, [1,2,3,6], 'monthly_shop_revenue')\n",
    "\n",
    "matrix.drop(['monthly_shop_revenue'], axis=1, inplace=True)\n",
    "time.time() - t"
   ]
  },
  {
   "cell_type": "code",
   "execution_count": 32,
   "metadata": {
    "collapsed": false
   },
   "outputs": [
    {
     "data": {
      "text/plain": [
       "5.22210693359375"
      ]
     },
     "execution_count": 32,
     "metadata": {},
     "output_type": "execute_result"
    }
   ],
   "source": [
    "t = time.time()\n",
    "def fill_na(df):\n",
    "    for col in df.columns:\n",
    "        if ('_lag_' in col) & (df[col].isnull().any()):\n",
    "            if ('item_cnt' in col):\n",
    "                df[col].fillna(0, inplace=True)         \n",
    "    return df\n",
    "\n",
    "matrix = fill_na(matrix)\n",
    "time.time() - t"
   ]
  },
  {
   "cell_type": "code",
   "execution_count": 33,
   "metadata": {
    "collapsed": false
   },
   "outputs": [
    {
     "data": {
      "text/plain": [
       "Index(['date_block_num', 'shop_id', 'item_id', 'item_cnt_month', 'ID',\n",
       "       'item_category_id', 'month', 'days', 'item_cnt_month_lag_1',\n",
       "       'item_cnt_month_lag_2', 'item_cnt_month_lag_3', 'item_cnt_month_lag_6',\n",
       "       'item_cnt_month_lag_12', 'month_avg_item_cnt_lag_1',\n",
       "       'month_itemid_avg_item_cnt_lag_1', 'month_itemid_avg_item_cnt_lag_2',\n",
       "       'month_itemid_avg_item_cnt_lag_3', 'month_itemid_avg_item_cnt_lag_6',\n",
       "       'month_itemid_avg_item_cnt_lag_12', 'date_shop_avg_item_cnt',\n",
       "       'month_shopid_avg_item_cnt_lag_1', 'month_shopid_avg_item_cnt_lag_2',\n",
       "       'month_shopid_avg_item_cnt_lag_3', 'month_shopid_avg_item_cnt_lag_6',\n",
       "       'month_shopid_avg_item_cnt_lag_12', 'month_catid_avg_item_cnt_lag_1',\n",
       "       'month_shopid_catid_avg_item_cnt_lag_1', 'monthly_shop_revenue_lag_1',\n",
       "       'monthly_shop_revenue_lag_2', 'monthly_shop_revenue_lag_3',\n",
       "       'monthly_shop_revenue_lag_6'],\n",
       "      dtype='object')"
      ]
     },
     "execution_count": 33,
     "metadata": {},
     "output_type": "execute_result"
    }
   ],
   "source": [
    "matrix.columns"
   ]
  },
  {
   "cell_type": "code",
   "execution_count": 34,
   "metadata": {
    "collapsed": false
   },
   "outputs": [
    {
     "name": "stdout",
     "output_type": "stream",
     "text": [
      "<class 'pandas.core.frame.DataFrame'>\n",
      "Int64Index: 11128004 entries, 0 to 11128003\n",
      "Data columns (total 31 columns):\n",
      "date_block_num                           int8\n",
      "shop_id                                  int8\n",
      "item_id                                  int16\n",
      "item_cnt_month                           float64\n",
      "ID                                       float64\n",
      "item_category_id                         int8\n",
      "month                                    int8\n",
      "days                                     int8\n",
      "item_cnt_month_lag_1                     float64\n",
      "item_cnt_month_lag_2                     float64\n",
      "item_cnt_month_lag_3                     float64\n",
      "item_cnt_month_lag_6                     float64\n",
      "item_cnt_month_lag_12                    float64\n",
      "month_avg_item_cnt_lag_1                 float16\n",
      "month_itemid_avg_item_cnt_lag_1          float16\n",
      "month_itemid_avg_item_cnt_lag_2          float16\n",
      "month_itemid_avg_item_cnt_lag_3          float16\n",
      "month_itemid_avg_item_cnt_lag_6          float16\n",
      "month_itemid_avg_item_cnt_lag_12         float16\n",
      "date_shop_avg_item_cnt                   float16\n",
      "month_shopid_avg_item_cnt_lag_1          float64\n",
      "month_shopid_avg_item_cnt_lag_2          float64\n",
      "month_shopid_avg_item_cnt_lag_3          float64\n",
      "month_shopid_avg_item_cnt_lag_6          float64\n",
      "month_shopid_avg_item_cnt_lag_12         float64\n",
      "month_catid_avg_item_cnt_lag_1           float16\n",
      "month_shopid_catid_avg_item_cnt_lag_1    float16\n",
      "monthly_shop_revenue_lag_1               float32\n",
      "monthly_shop_revenue_lag_2               float32\n",
      "monthly_shop_revenue_lag_3               float32\n",
      "monthly_shop_revenue_lag_6               float32\n",
      "dtypes: float16(9), float32(4), float64(12), int16(1), int8(5)\n",
      "memory usage: 1.5 GB\n"
     ]
    }
   ],
   "source": [
    "matrix.info()"
   ]
  },
  {
   "cell_type": "code",
   "execution_count": 35,
   "metadata": {
    "collapsed": false
   },
   "outputs": [],
   "source": [
    "# don't dowcast below float32\n",
    "#float_cols = [c for c in matrix if matrix[c].dtype in [\"float32\",\"float64\"]]\n",
    "#int_cols =   [c for c in matrix if matrix[c].dtype in [\"int64\", \"int32\"]]\n",
    "#matrix[float_cols] = matrix[float_cols].astype(np.float16)\n",
    "#matrix[int_cols]   = matrix[int_cols].astype(np.int16)"
   ]
  },
  {
   "cell_type": "code",
   "execution_count": 36,
   "metadata": {
    "collapsed": false
   },
   "outputs": [
    {
     "data": {
      "text/plain": [
       "16120"
      ]
     },
     "execution_count": 36,
     "metadata": {},
     "output_type": "execute_result"
    }
   ],
   "source": [
    "matrix.to_pickle('data_matrix.pkl')\n",
    "del matrix\n",
    "del group\n",
    "del items\n",
    "del shops\n",
    "del cats\n",
    "del train\n",
    "# leave test for submission\n",
    "gc.collect()"
   ]
  },
  {
   "cell_type": "markdown",
   "metadata": {},
   "source": [
    "# Models\n",
    "\n",
    "In this section I will create different models:\n",
    "XGboost, Random Forest, Linear Regression, Neural Networls.\n",
    "In the following I will stack all the outcome of such models for a better prediction.\n",
    "All such models are serialized to disk and can be loaded without having to train them."
   ]
  },
  {
   "cell_type": "code",
   "execution_count": 37,
   "metadata": {
    "collapsed": true
   },
   "outputs": [],
   "source": [
    "data = pd.read_pickle('data_matrix.pkl')"
   ]
  },
  {
   "cell_type": "code",
   "execution_count": 38,
   "metadata": {
    "collapsed": true
   },
   "outputs": [],
   "source": [
    "data = data.replace([np.inf], np.nan)"
   ]
  },
  {
   "cell_type": "code",
   "execution_count": 39,
   "metadata": {
    "collapsed": false
   },
   "outputs": [
    {
     "data": {
      "text/html": [
       "<div>\n",
       "<style scoped>\n",
       "    .dataframe tbody tr th:only-of-type {\n",
       "        vertical-align: middle;\n",
       "    }\n",
       "\n",
       "    .dataframe tbody tr th {\n",
       "        vertical-align: top;\n",
       "    }\n",
       "\n",
       "    .dataframe thead th {\n",
       "        text-align: right;\n",
       "    }\n",
       "</style>\n",
       "<table border=\"1\" class=\"dataframe\">\n",
       "  <thead>\n",
       "    <tr style=\"text-align: right;\">\n",
       "      <th></th>\n",
       "      <th>date_block_num</th>\n",
       "      <th>shop_id</th>\n",
       "      <th>item_id</th>\n",
       "      <th>item_cnt_month</th>\n",
       "      <th>ID</th>\n",
       "      <th>item_category_id</th>\n",
       "      <th>month</th>\n",
       "      <th>days</th>\n",
       "      <th>item_cnt_month_lag_1</th>\n",
       "      <th>item_cnt_month_lag_2</th>\n",
       "      <th>...</th>\n",
       "      <th>month_shopid_avg_item_cnt_lag_2</th>\n",
       "      <th>month_shopid_avg_item_cnt_lag_3</th>\n",
       "      <th>month_shopid_avg_item_cnt_lag_6</th>\n",
       "      <th>month_shopid_avg_item_cnt_lag_12</th>\n",
       "      <th>month_catid_avg_item_cnt_lag_1</th>\n",
       "      <th>month_shopid_catid_avg_item_cnt_lag_1</th>\n",
       "      <th>monthly_shop_revenue_lag_1</th>\n",
       "      <th>monthly_shop_revenue_lag_2</th>\n",
       "      <th>monthly_shop_revenue_lag_3</th>\n",
       "      <th>monthly_shop_revenue_lag_6</th>\n",
       "    </tr>\n",
       "  </thead>\n",
       "  <tbody>\n",
       "    <tr>\n",
       "      <th>0</th>\n",
       "      <td>0</td>\n",
       "      <td>0</td>\n",
       "      <td>19</td>\n",
       "      <td>0.0</td>\n",
       "      <td>0.0</td>\n",
       "      <td>40</td>\n",
       "      <td>0</td>\n",
       "      <td>31</td>\n",
       "      <td>0.0</td>\n",
       "      <td>0.0</td>\n",
       "      <td>...</td>\n",
       "      <td>0.0</td>\n",
       "      <td>0.0</td>\n",
       "      <td>0.0</td>\n",
       "      <td>0.0</td>\n",
       "      <td>0.0</td>\n",
       "      <td>0.0</td>\n",
       "      <td>0.0</td>\n",
       "      <td>0.0</td>\n",
       "      <td>0.0</td>\n",
       "      <td>0.0</td>\n",
       "    </tr>\n",
       "    <tr>\n",
       "      <th>1</th>\n",
       "      <td>0</td>\n",
       "      <td>0</td>\n",
       "      <td>27</td>\n",
       "      <td>0.0</td>\n",
       "      <td>0.0</td>\n",
       "      <td>19</td>\n",
       "      <td>0</td>\n",
       "      <td>31</td>\n",
       "      <td>0.0</td>\n",
       "      <td>0.0</td>\n",
       "      <td>...</td>\n",
       "      <td>0.0</td>\n",
       "      <td>0.0</td>\n",
       "      <td>0.0</td>\n",
       "      <td>0.0</td>\n",
       "      <td>0.0</td>\n",
       "      <td>0.0</td>\n",
       "      <td>0.0</td>\n",
       "      <td>0.0</td>\n",
       "      <td>0.0</td>\n",
       "      <td>0.0</td>\n",
       "    </tr>\n",
       "    <tr>\n",
       "      <th>2</th>\n",
       "      <td>0</td>\n",
       "      <td>0</td>\n",
       "      <td>28</td>\n",
       "      <td>0.0</td>\n",
       "      <td>0.0</td>\n",
       "      <td>30</td>\n",
       "      <td>0</td>\n",
       "      <td>31</td>\n",
       "      <td>0.0</td>\n",
       "      <td>0.0</td>\n",
       "      <td>...</td>\n",
       "      <td>0.0</td>\n",
       "      <td>0.0</td>\n",
       "      <td>0.0</td>\n",
       "      <td>0.0</td>\n",
       "      <td>0.0</td>\n",
       "      <td>0.0</td>\n",
       "      <td>0.0</td>\n",
       "      <td>0.0</td>\n",
       "      <td>0.0</td>\n",
       "      <td>0.0</td>\n",
       "    </tr>\n",
       "    <tr>\n",
       "      <th>3</th>\n",
       "      <td>0</td>\n",
       "      <td>0</td>\n",
       "      <td>29</td>\n",
       "      <td>0.0</td>\n",
       "      <td>0.0</td>\n",
       "      <td>23</td>\n",
       "      <td>0</td>\n",
       "      <td>31</td>\n",
       "      <td>0.0</td>\n",
       "      <td>0.0</td>\n",
       "      <td>...</td>\n",
       "      <td>0.0</td>\n",
       "      <td>0.0</td>\n",
       "      <td>0.0</td>\n",
       "      <td>0.0</td>\n",
       "      <td>0.0</td>\n",
       "      <td>0.0</td>\n",
       "      <td>0.0</td>\n",
       "      <td>0.0</td>\n",
       "      <td>0.0</td>\n",
       "      <td>0.0</td>\n",
       "    </tr>\n",
       "    <tr>\n",
       "      <th>4</th>\n",
       "      <td>0</td>\n",
       "      <td>0</td>\n",
       "      <td>32</td>\n",
       "      <td>6.0</td>\n",
       "      <td>0.0</td>\n",
       "      <td>40</td>\n",
       "      <td>0</td>\n",
       "      <td>31</td>\n",
       "      <td>0.0</td>\n",
       "      <td>0.0</td>\n",
       "      <td>...</td>\n",
       "      <td>0.0</td>\n",
       "      <td>0.0</td>\n",
       "      <td>0.0</td>\n",
       "      <td>0.0</td>\n",
       "      <td>0.0</td>\n",
       "      <td>0.0</td>\n",
       "      <td>0.0</td>\n",
       "      <td>0.0</td>\n",
       "      <td>0.0</td>\n",
       "      <td>0.0</td>\n",
       "    </tr>\n",
       "  </tbody>\n",
       "</table>\n",
       "<p>5 rows × 31 columns</p>\n",
       "</div>"
      ],
      "text/plain": [
       "   date_block_num  shop_id  item_id  item_cnt_month   ID  item_category_id  \\\n",
       "0               0        0       19             0.0  0.0                40   \n",
       "1               0        0       27             0.0  0.0                19   \n",
       "2               0        0       28             0.0  0.0                30   \n",
       "3               0        0       29             0.0  0.0                23   \n",
       "4               0        0       32             6.0  0.0                40   \n",
       "\n",
       "   month  days  item_cnt_month_lag_1  item_cnt_month_lag_2  ...  \\\n",
       "0      0    31                   0.0                   0.0  ...   \n",
       "1      0    31                   0.0                   0.0  ...   \n",
       "2      0    31                   0.0                   0.0  ...   \n",
       "3      0    31                   0.0                   0.0  ...   \n",
       "4      0    31                   0.0                   0.0  ...   \n",
       "\n",
       "   month_shopid_avg_item_cnt_lag_2  month_shopid_avg_item_cnt_lag_3  \\\n",
       "0                              0.0                              0.0   \n",
       "1                              0.0                              0.0   \n",
       "2                              0.0                              0.0   \n",
       "3                              0.0                              0.0   \n",
       "4                              0.0                              0.0   \n",
       "\n",
       "   month_shopid_avg_item_cnt_lag_6  month_shopid_avg_item_cnt_lag_12  \\\n",
       "0                              0.0                               0.0   \n",
       "1                              0.0                               0.0   \n",
       "2                              0.0                               0.0   \n",
       "3                              0.0                               0.0   \n",
       "4                              0.0                               0.0   \n",
       "\n",
       "   month_catid_avg_item_cnt_lag_1  month_shopid_catid_avg_item_cnt_lag_1  \\\n",
       "0                             0.0                                    0.0   \n",
       "1                             0.0                                    0.0   \n",
       "2                             0.0                                    0.0   \n",
       "3                             0.0                                    0.0   \n",
       "4                             0.0                                    0.0   \n",
       "\n",
       "   monthly_shop_revenue_lag_1  monthly_shop_revenue_lag_2  \\\n",
       "0                         0.0                         0.0   \n",
       "1                         0.0                         0.0   \n",
       "2                         0.0                         0.0   \n",
       "3                         0.0                         0.0   \n",
       "4                         0.0                         0.0   \n",
       "\n",
       "   monthly_shop_revenue_lag_3  monthly_shop_revenue_lag_6  \n",
       "0                         0.0                         0.0  \n",
       "1                         0.0                         0.0  \n",
       "2                         0.0                         0.0  \n",
       "3                         0.0                         0.0  \n",
       "4                         0.0                         0.0  \n",
       "\n",
       "[5 rows x 31 columns]"
      ]
     },
     "execution_count": 39,
     "metadata": {},
     "output_type": "execute_result"
    }
   ],
   "source": [
    "data.fillna(0, inplace=True)\n",
    "data.head()"
   ]
  },
  {
   "cell_type": "code",
   "execution_count": 40,
   "metadata": {
    "collapsed": false
   },
   "outputs": [
    {
     "data": {
      "text/plain": [
       "Index(['date_block_num', 'shop_id', 'item_id', 'item_cnt_month', 'ID',\n",
       "       'item_category_id', 'month', 'days', 'item_cnt_month_lag_1',\n",
       "       'item_cnt_month_lag_2', 'item_cnt_month_lag_3', 'item_cnt_month_lag_6',\n",
       "       'item_cnt_month_lag_12', 'month_avg_item_cnt_lag_1',\n",
       "       'month_itemid_avg_item_cnt_lag_1', 'month_itemid_avg_item_cnt_lag_2',\n",
       "       'month_itemid_avg_item_cnt_lag_3', 'month_itemid_avg_item_cnt_lag_6',\n",
       "       'month_itemid_avg_item_cnt_lag_12', 'date_shop_avg_item_cnt',\n",
       "       'month_shopid_avg_item_cnt_lag_1', 'month_shopid_avg_item_cnt_lag_2',\n",
       "       'month_shopid_avg_item_cnt_lag_3', 'month_shopid_avg_item_cnt_lag_6',\n",
       "       'month_shopid_avg_item_cnt_lag_12', 'month_catid_avg_item_cnt_lag_1',\n",
       "       'month_shopid_catid_avg_item_cnt_lag_1', 'monthly_shop_revenue_lag_1',\n",
       "       'monthly_shop_revenue_lag_2', 'monthly_shop_revenue_lag_3',\n",
       "       'monthly_shop_revenue_lag_6'],\n",
       "      dtype='object')"
      ]
     },
     "execution_count": 40,
     "metadata": {},
     "output_type": "execute_result"
    }
   ],
   "source": [
    "data.columns"
   ]
  },
  {
   "cell_type": "code",
   "execution_count": 41,
   "metadata": {
    "collapsed": true
   },
   "outputs": [],
   "source": [
    "# I will use currently only the following features.\n",
    "data = data[[\n",
    "    'date_block_num',\n",
    "    'shop_id',\n",
    "    'item_id',\n",
    "    'item_cnt_month',\n",
    "    'item_category_id',\n",
    "    'item_cnt_month_lag_1',\n",
    "    'item_cnt_month_lag_2',\n",
    "    'item_cnt_month_lag_3',\n",
    "    'item_cnt_month_lag_6',\n",
    "    'item_cnt_month_lag_12',\n",
    "    'month_avg_item_cnt_lag_1',\n",
    "    'month_itemid_avg_item_cnt_lag_1',\n",
    "    'month_itemid_avg_item_cnt_lag_2',\n",
    "    'month_itemid_avg_item_cnt_lag_3',\n",
    "    'month_itemid_avg_item_cnt_lag_6',\n",
    "    'month_itemid_avg_item_cnt_lag_12',\n",
    "    'month_shopid_avg_item_cnt_lag_1',\n",
    "    'month_shopid_avg_item_cnt_lag_2',\n",
    "    'month_shopid_avg_item_cnt_lag_3',\n",
    "    'month_shopid_avg_item_cnt_lag_6',\n",
    "    'month_shopid_avg_item_cnt_lag_12',\n",
    "    'month_catid_avg_item_cnt_lag_1',\n",
    "    'monthly_shop_revenue_lag_1',\n",
    "    'month',\n",
    "    'days',\n",
    "]]"
   ]
  },
  {
   "cell_type": "code",
   "execution_count": 42,
   "metadata": {
    "collapsed": true
   },
   "outputs": [],
   "source": [
    "X_train = data[data.date_block_num < 33].drop(['item_cnt_month'], axis=1)\n",
    "Y_train = data[data.date_block_num < 33]['item_cnt_month']\n",
    "X_valid = data[data.date_block_num == 33].drop(['item_cnt_month'], axis=1)\n",
    "Y_valid = data[data.date_block_num == 33]['item_cnt_month']\n",
    "X_test = data[data.date_block_num == 34].drop(['item_cnt_month'], axis=1)"
   ]
  },
  {
   "cell_type": "code",
   "execution_count": 43,
   "metadata": {
    "collapsed": false
   },
   "outputs": [
    {
     "data": {
      "text/plain": [
       "7"
      ]
     },
     "execution_count": 43,
     "metadata": {},
     "output_type": "execute_result"
    }
   ],
   "source": [
    "del data\n",
    "gc.collect()"
   ]
  },
  {
   "cell_type": "code",
   "execution_count": 44,
   "metadata": {
    "collapsed": true
   },
   "outputs": [],
   "source": [
    "from xgboost import XGBRegressor\n",
    "from xgboost import plot_importance"
   ]
  },
  {
   "cell_type": "code",
   "execution_count": 45,
   "metadata": {
    "collapsed": false
   },
   "outputs": [],
   "source": [
    "# In this cell I report the code to hypertune xgboost parameters\n",
    "# It takes a long time to run, at least in my pc. so I decided to skip it and \n",
    "# use parameters that others find to be good for such a problem\n",
    "\n",
    "\n",
    "#from sklearn import preprocessing\n",
    "#import xgboost as xgb\n",
    "#from xgboost.sklearn import XGBRegressor\n",
    "#import datetime\n",
    "#from sklearn.model_selection import GridSearchCV\n",
    "#\n",
    "#now = datetime.datetime.now()\n",
    "#\n",
    "#xgb1 = XGBRegressor()\n",
    "#parameters = {'nthread':[4],\n",
    "#              'objective':['reg:linear'],\n",
    "#              'learning_rate': [.03, 0.05, .07], #so called `eta` value\n",
    "#              'max_depth': [5, 6, 7],\n",
    "#              'min_child_weight': [4],\n",
    "#              'silent': [1],\n",
    "#              'subsample': [0.7],\n",
    "#              'colsample_bytree': [0.7],\n",
    "#              'n_estimators': [500]}\n",
    "#\n",
    "#xgb_grid = GridSearchCV(xgb1,\n",
    "#                        parameters,\n",
    "#                        cv = 2,\n",
    "#                        n_jobs = 2, # number of jobs to run in parallel\n",
    "#                        verbose=True)\n",
    "#\n",
    "#xgb_grid.fit(X_train, \n",
    "#          Y_train, \n",
    "#          eval_metric=\"rmse\",\n",
    "#          eval_set=[(X_train, Y_train), (X_valid, Y_valid)],\n",
    "#          verbose=True, \n",
    "#          early_stopping_rounds = 10 )\n",
    "#\n",
    "#print(xgb_grid.best_score_)\n",
    "#print(xgb_grid.best_params_)"
   ]
  },
  {
   "cell_type": "code",
   "execution_count": 46,
   "metadata": {
    "collapsed": false
   },
   "outputs": [
    {
     "name": "stdout",
     "output_type": "stream",
     "text": [
      "[18:31:19] Tree method is automatically selected to be 'approx' for faster speed. to use old behavior(exact greedy algorithm on single machine), set tree_method to 'exact'\n",
      "[0]\tvalidation_0-rmse:1.19211\tvalidation_1-rmse:1.12466\n",
      "Multiple eval metrics have been passed: 'validation_1-rmse' will be used for early stopping.\n",
      "\n",
      "Will train until validation_1-rmse hasn't improved in 10 rounds.\n",
      "[1]\tvalidation_0-rmse:1.1515\tvalidation_1-rmse:1.09468\n",
      "[2]\tvalidation_0-rmse:1.1179\tvalidation_1-rmse:1.06896\n",
      "[3]\tvalidation_0-rmse:1.08871\tvalidation_1-rmse:1.0477\n",
      "[4]\tvalidation_0-rmse:1.06407\tvalidation_1-rmse:1.0303\n",
      "[5]\tvalidation_0-rmse:1.04341\tvalidation_1-rmse:1.015\n",
      "[6]\tvalidation_0-rmse:1.02609\tvalidation_1-rmse:1.00306\n",
      "[7]\tvalidation_0-rmse:1.01162\tvalidation_1-rmse:0.992773\n",
      "[8]\tvalidation_0-rmse:0.999782\tvalidation_1-rmse:0.984659\n",
      "[9]\tvalidation_0-rmse:0.989493\tvalidation_1-rmse:0.977717\n",
      "[10]\tvalidation_0-rmse:0.979662\tvalidation_1-rmse:0.972094\n",
      "[11]\tvalidation_0-rmse:0.9724\tvalidation_1-rmse:0.967325\n",
      "[12]\tvalidation_0-rmse:0.965304\tvalidation_1-rmse:0.963957\n",
      "[13]\tvalidation_0-rmse:0.960117\tvalidation_1-rmse:0.961035\n",
      "[14]\tvalidation_0-rmse:0.954739\tvalidation_1-rmse:0.955077\n",
      "[15]\tvalidation_0-rmse:0.950267\tvalidation_1-rmse:0.952937\n",
      "[16]\tvalidation_0-rmse:0.94615\tvalidation_1-rmse:0.950919\n",
      "[17]\tvalidation_0-rmse:0.942407\tvalidation_1-rmse:0.949736\n",
      "[18]\tvalidation_0-rmse:0.939596\tvalidation_1-rmse:0.948159\n",
      "[19]\tvalidation_0-rmse:0.936824\tvalidation_1-rmse:0.947562\n",
      "[20]\tvalidation_0-rmse:0.93429\tvalidation_1-rmse:0.947063\n",
      "[21]\tvalidation_0-rmse:0.931917\tvalidation_1-rmse:0.946472\n",
      "[22]\tvalidation_0-rmse:0.929202\tvalidation_1-rmse:0.943658\n",
      "[23]\tvalidation_0-rmse:0.926833\tvalidation_1-rmse:0.941874\n",
      "[24]\tvalidation_0-rmse:0.924606\tvalidation_1-rmse:0.941441\n",
      "[25]\tvalidation_0-rmse:0.922233\tvalidation_1-rmse:0.940391\n",
      "[26]\tvalidation_0-rmse:0.920254\tvalidation_1-rmse:0.940379\n",
      "[27]\tvalidation_0-rmse:0.918965\tvalidation_1-rmse:0.939557\n",
      "[28]\tvalidation_0-rmse:0.917886\tvalidation_1-rmse:0.939504\n",
      "[29]\tvalidation_0-rmse:0.916845\tvalidation_1-rmse:0.93952\n",
      "[30]\tvalidation_0-rmse:0.915748\tvalidation_1-rmse:0.938925\n",
      "[31]\tvalidation_0-rmse:0.914341\tvalidation_1-rmse:0.938543\n",
      "[32]\tvalidation_0-rmse:0.913737\tvalidation_1-rmse:0.938755\n",
      "[33]\tvalidation_0-rmse:0.912427\tvalidation_1-rmse:0.938043\n",
      "[34]\tvalidation_0-rmse:0.911844\tvalidation_1-rmse:0.937774\n",
      "[35]\tvalidation_0-rmse:0.911122\tvalidation_1-rmse:0.937854\n",
      "[36]\tvalidation_0-rmse:0.910365\tvalidation_1-rmse:0.937786\n",
      "[37]\tvalidation_0-rmse:0.90971\tvalidation_1-rmse:0.937839\n",
      "[38]\tvalidation_0-rmse:0.908873\tvalidation_1-rmse:0.937759\n",
      "[39]\tvalidation_0-rmse:0.908148\tvalidation_1-rmse:0.937656\n",
      "[40]\tvalidation_0-rmse:0.907562\tvalidation_1-rmse:0.937553\n",
      "[41]\tvalidation_0-rmse:0.907171\tvalidation_1-rmse:0.937453\n",
      "[42]\tvalidation_0-rmse:0.906404\tvalidation_1-rmse:0.937125\n",
      "[43]\tvalidation_0-rmse:0.905716\tvalidation_1-rmse:0.936838\n",
      "[44]\tvalidation_0-rmse:0.905202\tvalidation_1-rmse:0.937227\n",
      "[45]\tvalidation_0-rmse:0.904398\tvalidation_1-rmse:0.936959\n",
      "[46]\tvalidation_0-rmse:0.90386\tvalidation_1-rmse:0.93666\n",
      "[47]\tvalidation_0-rmse:0.903364\tvalidation_1-rmse:0.937247\n",
      "[48]\tvalidation_0-rmse:0.903104\tvalidation_1-rmse:0.937255\n",
      "[49]\tvalidation_0-rmse:0.902564\tvalidation_1-rmse:0.937475\n",
      "[50]\tvalidation_0-rmse:0.902128\tvalidation_1-rmse:0.937414\n",
      "[51]\tvalidation_0-rmse:0.901907\tvalidation_1-rmse:0.937212\n",
      "[52]\tvalidation_0-rmse:0.901657\tvalidation_1-rmse:0.936864\n",
      "[53]\tvalidation_0-rmse:0.901446\tvalidation_1-rmse:0.936876\n",
      "[54]\tvalidation_0-rmse:0.901125\tvalidation_1-rmse:0.9367\n",
      "[55]\tvalidation_0-rmse:0.900934\tvalidation_1-rmse:0.936733\n",
      "[56]\tvalidation_0-rmse:0.900349\tvalidation_1-rmse:0.936108\n",
      "[57]\tvalidation_0-rmse:0.900155\tvalidation_1-rmse:0.936098\n",
      "[58]\tvalidation_0-rmse:0.899578\tvalidation_1-rmse:0.936374\n",
      "[59]\tvalidation_0-rmse:0.899357\tvalidation_1-rmse:0.93649\n",
      "[60]\tvalidation_0-rmse:0.898853\tvalidation_1-rmse:0.93647\n",
      "[61]\tvalidation_0-rmse:0.898207\tvalidation_1-rmse:0.936617\n",
      "[62]\tvalidation_0-rmse:0.897711\tvalidation_1-rmse:0.93656\n",
      "[63]\tvalidation_0-rmse:0.897639\tvalidation_1-rmse:0.936513\n",
      "[64]\tvalidation_0-rmse:0.896727\tvalidation_1-rmse:0.936232\n",
      "[65]\tvalidation_0-rmse:0.896508\tvalidation_1-rmse:0.936261\n",
      "[66]\tvalidation_0-rmse:0.896343\tvalidation_1-rmse:0.936296\n",
      "[67]\tvalidation_0-rmse:0.896158\tvalidation_1-rmse:0.936345\n",
      "Stopping. Best iteration:\n",
      "[57]\tvalidation_0-rmse:0.900155\tvalidation_1-rmse:0.936098\n",
      "\n"
     ]
    },
    {
     "data": {
      "text/plain": [
       "XGBRegressor(base_score=0.5, booster='gbtree', colsample_bylevel=1,\n",
       "             colsample_bytree=0.8, eta=0.3, gamma=0, learning_rate=0.1,\n",
       "             max_delta_step=0, max_depth=8, min_child_weight=300, missing=None,\n",
       "             n_estimators=1000, n_jobs=1, nthread=None, objective='reg:linear',\n",
       "             random_state=0, reg_alpha=0, reg_lambda=1, scale_pos_weight=1,\n",
       "             seed=42, silent=True, subsample=0.8)"
      ]
     },
     "execution_count": 46,
     "metadata": {},
     "output_type": "execute_result"
    }
   ],
   "source": [
    "model = XGBRegressor(\n",
    "    max_depth=8,\n",
    "    n_estimators=1000,\n",
    "    min_child_weight=300, \n",
    "    colsample_bytree=0.8, \n",
    "    subsample=0.8, \n",
    "    eta=0.3,    \n",
    "    seed=42)\n",
    "\n",
    "model.fit(\n",
    "    X_train, \n",
    "    Y_train, \n",
    "    eval_metric=\"rmse\", \n",
    "    eval_set=[(X_train, Y_train), (X_valid, Y_valid)], \n",
    "    verbose=True, \n",
    "    early_stopping_rounds = 10)"
   ]
  },
  {
   "cell_type": "code",
   "execution_count": 47,
   "metadata": {
    "collapsed": false
   },
   "outputs": [],
   "source": [
    "xgb_train_pred = model.predict(X_train).clip(0, 20)\n",
    "xgb_valid_pred = model.predict(X_valid).clip(0, 20)\n",
    "xgb_test_pred  = model.predict(X_test).clip(0, 20)\n",
    "\n",
    "# save prediction model\n",
    "filename = 'xgb_model.sav'\n",
    "pickle.dump(model, open(filename, 'wb'))\n",
    "\n",
    "# load the model from disk\n",
    "#xgb_model = pickle.load(open(filename, 'rb'))"
   ]
  },
  {
   "cell_type": "code",
   "execution_count": 48,
   "metadata": {
    "collapsed": false
   },
   "outputs": [
    {
     "data": {
      "text/plain": [
       "<matplotlib.axes._subplots.AxesSubplot at 0x1287d6550>"
      ]
     },
     "execution_count": 48,
     "metadata": {},
     "output_type": "execute_result"
    },
    {
     "data": {
      "image/png": "[encoded data removed]",
      "text/plain": [
       "<Figure size 720x1008 with 1 Axes>"
      ]
     },
     "metadata": {
      "needs_background": "light"
     },
     "output_type": "display_data"
    }
   ],
   "source": [
    "from xgboost import plot_importance\n",
    "def plot_features(booster, figsize):    \n",
    "    fig, ax = plt.subplots(1,1,figsize=figsize)\n",
    "    return plot_importance(booster=booster, ax=ax)\n",
    "plot_features(model, (10,14))"
   ]
  },
  {
   "cell_type": "code",
   "execution_count": 49,
   "metadata": {
    "collapsed": false
   },
   "outputs": [
    {
     "name": "stdout",
     "output_type": "stream",
     "text": [
      "rmsd_train:  0.9001232774810063\n",
      "rmsd_valid:  0.9360657827205278\n"
     ]
    }
   ],
   "source": [
    "from sklearn.metrics import mean_squared_error\n",
    "rmsd_train = np.sqrt(mean_squared_error(Y_train, xgb_train_pred))\n",
    "rmsd_valid = np.sqrt(mean_squared_error(Y_valid, xgb_valid_pred))\n",
    "print(\"rmsd_train: \",rmsd_train)\n",
    "print(\"rmsd_valid: \",rmsd_valid)"
   ]
  },
  {
   "cell_type": "code",
   "execution_count": 57,
   "metadata": {
    "collapsed": false
   },
   "outputs": [
    {
     "name": "stderr",
     "output_type": "stream",
     "text": [
      "[Parallel(n_jobs=-1)]: Using backend ThreadingBackend with 4 concurrent workers.\n",
      "[Parallel(n_jobs=-1)]: Done  42 tasks      | elapsed: 19.9min\n",
      "[Parallel(n_jobs=-1)]: Done 100 out of 100 | elapsed: 48.0min finished\n"
     ]
    },
    {
     "data": {
      "text/plain": [
       "RandomForestRegressor(bootstrap=True, criterion='mse', max_depth=8,\n",
       "                      max_features='auto', max_leaf_nodes=None,\n",
       "                      min_impurity_decrease=0.0, min_impurity_split=None,\n",
       "                      min_samples_leaf=1, min_samples_split=2,\n",
       "                      min_weight_fraction_leaf=0.0, n_estimators=100, n_jobs=-1,\n",
       "                      oob_score=False, random_state=None, verbose=1,\n",
       "                      warm_start=False)"
      ]
     },
     "execution_count": 57,
     "metadata": {},
     "output_type": "execute_result"
    }
   ],
   "source": [
    "# random forest model\n",
    "from sklearn.ensemble import RandomForestRegressor\n",
    "rf_model = RandomForestRegressor(criterion='mse', n_estimators=100, max_depth=8, verbose=1, n_jobs=-1)\n",
    "rf_model.fit(X_train, Y_train)"
   ]
  },
  {
   "cell_type": "code",
   "execution_count": 58,
   "metadata": {
    "collapsed": false
   },
   "outputs": [
    {
     "name": "stderr",
     "output_type": "stream",
     "text": [
      "[Parallel(n_jobs=4)]: Using backend ThreadingBackend with 4 concurrent workers.\n",
      "[Parallel(n_jobs=4)]: Done  42 tasks      | elapsed:    6.8s\n",
      "[Parallel(n_jobs=4)]: Done 100 out of 100 | elapsed:   15.3s finished\n",
      "[Parallel(n_jobs=4)]: Using backend ThreadingBackend with 4 concurrent workers.\n",
      "[Parallel(n_jobs=4)]: Done  42 tasks      | elapsed:    0.2s\n",
      "[Parallel(n_jobs=4)]: Done 100 out of 100 | elapsed:    0.4s finished\n",
      "[Parallel(n_jobs=4)]: Using backend ThreadingBackend with 4 concurrent workers.\n",
      "[Parallel(n_jobs=4)]: Done  42 tasks      | elapsed:    0.1s\n",
      "[Parallel(n_jobs=4)]: Done 100 out of 100 | elapsed:    0.3s finished\n"
     ]
    },
    {
     "name": "stdout",
     "output_type": "stream",
     "text": [
      "rmsd_train:  0.9493383328619186\n",
      "rmsd_valid:  0.9768206514083572\n"
     ]
    }
   ],
   "source": [
    "rf_train_pred = rf_model.predict(X_train).clip(0, 20)\n",
    "rf_valid_pred = rf_model.predict(X_valid).clip(0, 20)\n",
    "rf_test_pred  = rf_model.predict(X_test).clip(0, 20)\n",
    "\n",
    "# save prediction model\n",
    "filename = 'rf_model.sav'\n",
    "pickle.dump(rf_model, open(filename, 'wb'))\n",
    "\n",
    "# load the model from disk\n",
    "#rf_model = pickle.load(open(filename, 'rb'))\n",
    "rmsd_train = np.sqrt(mean_squared_error(Y_train, rf_train_pred))\n",
    "rmsd_valid = np.sqrt(mean_squared_error(Y_valid, rf_valid_pred))\n",
    "print(\"rmsd_train: \",rmsd_train)\n",
    "print(\"rmsd_valid: \",rmsd_valid)"
   ]
  },
  {
   "cell_type": "code",
   "execution_count": 51,
   "metadata": {
    "collapsed": false
   },
   "outputs": [
    {
     "data": {
      "text/plain": [
       "LinearRegression(copy_X=True, fit_intercept=True, n_jobs=-1, normalize=True)"
      ]
     },
     "execution_count": 51,
     "metadata": {},
     "output_type": "execute_result"
    }
   ],
   "source": [
    "from sklearn.linear_model import LinearRegression\n",
    "from sklearn.preprocessing import MinMaxScaler\n",
    "lr_scaler = MinMaxScaler()\n",
    "lr_scaler.fit(X_train)\n",
    "lr_train = lr_scaler.transform(X_train)\n",
    "lr_valid = lr_scaler.transform(X_valid)\n",
    "lr_test  = lr_scaler.transform(X_test)\n",
    "\n",
    "lr_model = LinearRegression(n_jobs=-1, normalize=True)\n",
    "lr_model.fit(lr_train, Y_train)"
   ]
  },
  {
   "cell_type": "code",
   "execution_count": 52,
   "metadata": {
    "collapsed": false
   },
   "outputs": [
    {
     "name": "stdout",
     "output_type": "stream",
     "text": [
      "rmsd_train:  0.9782437747780725\n",
      "rmsd_valid:  0.969255094335659\n"
     ]
    }
   ],
   "source": [
    "lr_train_pred = lr_model.predict(lr_train)\n",
    "lr_valid_pred = lr_model.predict(lr_valid)\n",
    "lr_test_pred = lr_model.predict(lr_test)\n",
    "\n",
    "# save prediction model\n",
    "filename = 'lr_model.sav'\n",
    "pickle.dump(rf_model, open(filename, 'wb'))\n",
    "\n",
    "# load the model from disk\n",
    "#lr_model = pickle.load(open(filename, 'rb'))\n",
    "rmsd_train = np.sqrt(mean_squared_error(Y_train, lr_train_pred))\n",
    "rmsd_valid = np.sqrt(mean_squared_error(Y_valid, lr_valid_pred))\n",
    "print(\"rmsd_train: \",rmsd_train)\n",
    "print(\"rmsd_valid: \",rmsd_valid)"
   ]
  },
  {
   "cell_type": "code",
   "execution_count": 53,
   "metadata": {
    "collapsed": false
   },
   "outputs": [
    {
     "name": "stderr",
     "output_type": "stream",
     "text": [
      "Using TensorFlow backend.\n"
     ]
    }
   ],
   "source": [
    "from keras.models import Sequential\n",
    "from keras.layers import Dense\n",
    "from sklearn.preprocessing import StandardScaler\n",
    "\n",
    "k_scaler = StandardScaler()\n",
    "k_scaler.fit(X_train)\n",
    "k_train = k_scaler.transform(X_train)\n",
    "k_valid = k_scaler.transform(X_valid)\n",
    "k_test  = k_scaler.transform(X_test)\n"
   ]
  },
  {
   "cell_type": "code",
   "execution_count": 54,
   "metadata": {
    "collapsed": false
   },
   "outputs": [
    {
     "name": "stdout",
     "output_type": "stream",
     "text": [
      "WARNING:tensorflow:From /Users/andicuko/Desktop/FinalProject/python_virtenv/lib/python3.6/site-packages/tensorflow/python/framework/op_def_library.py:263: colocate_with (from tensorflow.python.framework.ops) is deprecated and will be removed in a future version.\n",
      "Instructions for updating:\n",
      "Colocations handled automatically by placer.\n",
      "WARNING:tensorflow:From /Users/andicuko/Desktop/FinalProject/python_virtenv/lib/python3.6/site-packages/tensorflow/python/ops/math_ops.py:3066: to_int32 (from tensorflow.python.ops.math_ops) is deprecated and will be removed in a future version.\n",
      "Instructions for updating:\n",
      "Use tf.cast instead.\n",
      "Train on 10675632 samples, validate on 238172 samples\n",
      "Epoch 1/100\n",
      "10675632/10675632 [==============================] - 13s 1us/step - loss: 1.2885 - mean_squared_error: 1.2885 - val_loss: 0.9945 - val_mean_squared_error: 0.9945\n",
      "Epoch 2/100\n",
      "10675632/10675632 [==============================] - 12s 1us/step - loss: 1.0316 - mean_squared_error: 1.0316 - val_loss: 0.9443 - val_mean_squared_error: 0.9443\n",
      "Epoch 3/100\n",
      "10675632/10675632 [==============================] - 13s 1us/step - loss: 0.9767 - mean_squared_error: 0.9767 - val_loss: 0.9407 - val_mean_squared_error: 0.9407\n",
      "Epoch 4/100\n",
      "10675632/10675632 [==============================] - 12s 1us/step - loss: 0.9633 - mean_squared_error: 0.9633 - val_loss: 0.9409 - val_mean_squared_error: 0.9409\n",
      "Epoch 5/100\n",
      "10675632/10675632 [==============================] - 12s 1us/step - loss: 0.9582 - mean_squared_error: 0.9582 - val_loss: 0.9406 - val_mean_squared_error: 0.9406\n",
      "Epoch 6/100\n",
      "10675632/10675632 [==============================] - 12s 1us/step - loss: 0.9550 - mean_squared_error: 0.9550 - val_loss: 0.9400 - val_mean_squared_error: 0.9400\n",
      "Epoch 7/100\n",
      "10675632/10675632 [==============================] - 12s 1us/step - loss: 0.9525 - mean_squared_error: 0.9525 - val_loss: 0.9386 - val_mean_squared_error: 0.9386\n",
      "Epoch 8/100\n",
      "10675632/10675632 [==============================] - 12s 1us/step - loss: 0.9502 - mean_squared_error: 0.9502 - val_loss: 0.9368 - val_mean_squared_error: 0.9368\n",
      "Epoch 9/100\n",
      "10675632/10675632 [==============================] - 12s 1us/step - loss: 0.9481 - mean_squared_error: 0.9481 - val_loss: 0.9349 - val_mean_squared_error: 0.9349\n",
      "Epoch 10/100\n",
      "10675632/10675632 [==============================] - 12s 1us/step - loss: 0.9462 - mean_squared_error: 0.9462 - val_loss: 0.9331 - val_mean_squared_error: 0.9331\n",
      "Epoch 11/100\n",
      "10675632/10675632 [==============================] - 12s 1us/step - loss: 0.9445 - mean_squared_error: 0.9445 - val_loss: 0.9315 - val_mean_squared_error: 0.9315\n",
      "Epoch 12/100\n",
      "10675632/10675632 [==============================] - 12s 1us/step - loss: 0.9431 - mean_squared_error: 0.9431 - val_loss: 0.9303 - val_mean_squared_error: 0.9303\n",
      "Epoch 13/100\n",
      "10675632/10675632 [==============================] - 12s 1us/step - loss: 0.9418 - mean_squared_error: 0.9418 - val_loss: 0.9293 - val_mean_squared_error: 0.9293\n",
      "Epoch 14/100\n",
      "10675632/10675632 [==============================] - 12s 1us/step - loss: 0.9407 - mean_squared_error: 0.9407 - val_loss: 0.9286 - val_mean_squared_error: 0.9286\n",
      "Epoch 15/100\n",
      "10675632/10675632 [==============================] - 12s 1us/step - loss: 0.9397 - mean_squared_error: 0.9397 - val_loss: 0.9280 - val_mean_squared_error: 0.9280\n",
      "Epoch 16/100\n",
      "10675632/10675632 [==============================] - 12s 1us/step - loss: 0.9388 - mean_squared_error: 0.9388 - val_loss: 0.9276 - val_mean_squared_error: 0.9276\n",
      "Epoch 17/100\n",
      "10675632/10675632 [==============================] - 12s 1us/step - loss: 0.9379 - mean_squared_error: 0.9379 - val_loss: 0.9273 - val_mean_squared_error: 0.9273\n",
      "Epoch 18/100\n",
      "10675632/10675632 [==============================] - 12s 1us/step - loss: 0.9371 - mean_squared_error: 0.9371 - val_loss: 0.9270 - val_mean_squared_error: 0.9270\n",
      "Epoch 19/100\n",
      "10675632/10675632 [==============================] - 12s 1us/step - loss: 0.9363 - mean_squared_error: 0.9363 - val_loss: 0.9266 - val_mean_squared_error: 0.9266\n",
      "Epoch 20/100\n",
      "10675632/10675632 [==============================] - 12s 1us/step - loss: 0.9355 - mean_squared_error: 0.9355 - val_loss: 0.9262 - val_mean_squared_error: 0.9262\n",
      "Epoch 21/100\n",
      "10675632/10675632 [==============================] - 12s 1us/step - loss: 0.9346 - mean_squared_error: 0.9346 - val_loss: 0.9258 - val_mean_squared_error: 0.9258\n",
      "Epoch 22/100\n",
      "10675632/10675632 [==============================] - 12s 1us/step - loss: 0.9338 - mean_squared_error: 0.9338 - val_loss: 0.9254 - val_mean_squared_error: 0.9254\n",
      "Epoch 23/100\n",
      "10675632/10675632 [==============================] - 16s 2us/step - loss: 0.9329 - mean_squared_error: 0.9329 - val_loss: 0.9249 - val_mean_squared_error: 0.9249\n",
      "Epoch 24/100\n",
      "10675632/10675632 [==============================] - 10s 1us/step - loss: 0.9321 - mean_squared_error: 0.9321 - val_loss: 0.9243 - val_mean_squared_error: 0.9243\n",
      "Epoch 25/100\n",
      "10675632/10675632 [==============================] - 10s 1us/step - loss: 0.9313 - mean_squared_error: 0.9313 - val_loss: 0.9238 - val_mean_squared_error: 0.9238\n",
      "Epoch 26/100\n",
      "10675632/10675632 [==============================] - 11s 1us/step - loss: 0.9306 - mean_squared_error: 0.9306 - val_loss: 0.9233 - val_mean_squared_error: 0.9233\n",
      "Epoch 27/100\n",
      "10675632/10675632 [==============================] - 10s 1us/step - loss: 0.9298 - mean_squared_error: 0.9298 - val_loss: 0.9228 - val_mean_squared_error: 0.9228\n",
      "Epoch 28/100\n",
      "10675632/10675632 [==============================] - 10s 1us/step - loss: 0.9291 - mean_squared_error: 0.9291 - val_loss: 0.9223 - val_mean_squared_error: 0.9223\n",
      "Epoch 29/100\n",
      "10675632/10675632 [==============================] - 10s 1us/step - loss: 0.9283 - mean_squared_error: 0.9283 - val_loss: 0.9219 - val_mean_squared_error: 0.9219\n",
      "Epoch 30/100\n",
      "10675632/10675632 [==============================] - 10s 1us/step - loss: 0.9276 - mean_squared_error: 0.9276 - val_loss: 0.9215 - val_mean_squared_error: 0.9215\n",
      "Epoch 31/100\n",
      "10675632/10675632 [==============================] - 10s 1us/step - loss: 0.9270 - mean_squared_error: 0.9270 - val_loss: 0.9211 - val_mean_squared_error: 0.9211\n",
      "Epoch 32/100\n",
      "10675632/10675632 [==============================] - 10s 1us/step - loss: 0.9263 - mean_squared_error: 0.9263 - val_loss: 0.9207 - val_mean_squared_error: 0.9207\n",
      "Epoch 33/100\n",
      "10675632/10675632 [==============================] - 10s 1us/step - loss: 0.9257 - mean_squared_error: 0.9257 - val_loss: 0.9204 - val_mean_squared_error: 0.9204\n",
      "Epoch 34/100\n",
      "10675632/10675632 [==============================] - 13s 1us/step - loss: 0.9251 - mean_squared_error: 0.9251 - val_loss: 0.9201 - val_mean_squared_error: 0.9201\n",
      "Epoch 35/100\n",
      "10675632/10675632 [==============================] - 12s 1us/step - loss: 0.9246 - mean_squared_error: 0.9246 - val_loss: 0.9198 - val_mean_squared_error: 0.9198\n",
      "Epoch 36/100\n",
      "10675632/10675632 [==============================] - 12s 1us/step - loss: 0.9240 - mean_squared_error: 0.9240 - val_loss: 0.9195 - val_mean_squared_error: 0.9195\n",
      "Epoch 37/100\n",
      "10675632/10675632 [==============================] - 12s 1us/step - loss: 0.9235 - mean_squared_error: 0.9235 - val_loss: 0.9193 - val_mean_squared_error: 0.9193\n",
      "Epoch 38/100\n",
      "10675632/10675632 [==============================] - 12s 1us/step - loss: 0.9230 - mean_squared_error: 0.9230 - val_loss: 0.9191 - val_mean_squared_error: 0.9191\n",
      "Epoch 39/100\n",
      "10675632/10675632 [==============================] - 12s 1us/step - loss: 0.9225 - mean_squared_error: 0.9225 - val_loss: 0.9189 - val_mean_squared_error: 0.9189\n",
      "Epoch 40/100\n",
      "10675632/10675632 [==============================] - 12s 1us/step - loss: 0.9221 - mean_squared_error: 0.9221 - val_loss: 0.9187 - val_mean_squared_error: 0.9187\n",
      "Epoch 41/100\n",
      "10675632/10675632 [==============================] - 13s 1us/step - loss: 0.9216 - mean_squared_error: 0.9216 - val_loss: 0.9185 - val_mean_squared_error: 0.9185\n",
      "Epoch 42/100\n",
      "10675632/10675632 [==============================] - 12s 1us/step - loss: 0.9212 - mean_squared_error: 0.9212 - val_loss: 0.9183 - val_mean_squared_error: 0.9183\n",
      "Epoch 43/100\n",
      "10675632/10675632 [==============================] - 12s 1us/step - loss: 0.9208 - mean_squared_error: 0.9208 - val_loss: 0.9182 - val_mean_squared_error: 0.9182\n",
      "Epoch 44/100\n",
      "10675632/10675632 [==============================] - 12s 1us/step - loss: 0.9204 - mean_squared_error: 0.9204 - val_loss: 0.9182 - val_mean_squared_error: 0.9182\n",
      "Epoch 45/100\n",
      "10675632/10675632 [==============================] - 12s 1us/step - loss: 0.9201 - mean_squared_error: 0.9201 - val_loss: 0.9181 - val_mean_squared_error: 0.9181\n",
      "Epoch 46/100\n",
      "10675632/10675632 [==============================] - 12s 1us/step - loss: 0.9197 - mean_squared_error: 0.9197 - val_loss: 0.9181 - val_mean_squared_error: 0.9181\n",
      "Epoch 47/100\n",
      "10675632/10675632 [==============================] - 12s 1us/step - loss: 0.9194 - mean_squared_error: 0.9194 - val_loss: 0.9181 - val_mean_squared_error: 0.9181\n",
      "Epoch 48/100\n",
      "10675632/10675632 [==============================] - 12s 1us/step - loss: 0.9191 - mean_squared_error: 0.9191 - val_loss: 0.9182 - val_mean_squared_error: 0.9182\n",
      "Epoch 49/100\n",
      "10675632/10675632 [==============================] - 12s 1us/step - loss: 0.9188 - mean_squared_error: 0.9188 - val_loss: 0.9182 - val_mean_squared_error: 0.9182\n",
      "Epoch 50/100\n",
      "10675632/10675632 [==============================] - 12s 1us/step - loss: 0.9185 - mean_squared_error: 0.9185 - val_loss: 0.9182 - val_mean_squared_error: 0.9182\n",
      "Epoch 51/100\n",
      "10675632/10675632 [==============================] - 12s 1us/step - loss: 0.9182 - mean_squared_error: 0.9182 - val_loss: 0.9183 - val_mean_squared_error: 0.9183\n",
      "Epoch 52/100\n",
      "10675632/10675632 [==============================] - 12s 1us/step - loss: 0.9180 - mean_squared_error: 0.9180 - val_loss: 0.9184 - val_mean_squared_error: 0.9184\n",
      "Epoch 53/100\n",
      "10675632/10675632 [==============================] - 12s 1us/step - loss: 0.9177 - mean_squared_error: 0.9177 - val_loss: 0.9185 - val_mean_squared_error: 0.9185\n",
      "Epoch 54/100\n",
      "10675632/10675632 [==============================] - 12s 1us/step - loss: 0.9175 - mean_squared_error: 0.9175 - val_loss: 0.9186 - val_mean_squared_error: 0.9186\n",
      "Epoch 55/100\n",
      "10675632/10675632 [==============================] - 12s 1us/step - loss: 0.9173 - mean_squared_error: 0.9173 - val_loss: 0.9188 - val_mean_squared_error: 0.9188\n",
      "Epoch 56/100\n",
      "10675632/10675632 [==============================] - 12s 1us/step - loss: 0.9171 - mean_squared_error: 0.9171 - val_loss: 0.9189 - val_mean_squared_error: 0.9189\n",
      "Epoch 57/100\n",
      "10675632/10675632 [==============================] - 13s 1us/step - loss: 0.9168 - mean_squared_error: 0.9168 - val_loss: 0.9191 - val_mean_squared_error: 0.9191\n",
      "Epoch 58/100\n",
      "10675632/10675632 [==============================] - 12s 1us/step - loss: 0.9166 - mean_squared_error: 0.9166 - val_loss: 0.9193 - val_mean_squared_error: 0.9193\n",
      "Epoch 59/100\n",
      "10675632/10675632 [==============================] - 12s 1us/step - loss: 0.9164 - mean_squared_error: 0.9164 - val_loss: 0.9195 - val_mean_squared_error: 0.9195\n",
      "Epoch 60/100\n",
      "10675632/10675632 [==============================] - 12s 1us/step - loss: 0.9162 - mean_squared_error: 0.9162 - val_loss: 0.9197 - val_mean_squared_error: 0.9197\n",
      "Epoch 61/100\n",
      "10675632/10675632 [==============================] - 12s 1us/step - loss: 0.9160 - mean_squared_error: 0.9160 - val_loss: 0.9198 - val_mean_squared_error: 0.9198\n",
      "Epoch 62/100\n",
      "10675632/10675632 [==============================] - 12s 1us/step - loss: 0.9159 - mean_squared_error: 0.9159 - val_loss: 0.9201 - val_mean_squared_error: 0.9201\n",
      "Epoch 63/100\n",
      "10675632/10675632 [==============================] - 12s 1us/step - loss: 0.9157 - mean_squared_error: 0.9157 - val_loss: 0.9203 - val_mean_squared_error: 0.9203\n",
      "Epoch 64/100\n",
      "10675632/10675632 [==============================] - 12s 1us/step - loss: 0.9155 - mean_squared_error: 0.9155 - val_loss: 0.9204 - val_mean_squared_error: 0.9204\n",
      "Epoch 65/100\n",
      "10675632/10675632 [==============================] - 12s 1us/step - loss: 0.9153 - mean_squared_error: 0.9153 - val_loss: 0.9206 - val_mean_squared_error: 0.9206\n",
      "Epoch 66/100\n",
      "10675632/10675632 [==============================] - 12s 1us/step - loss: 0.9152 - mean_squared_error: 0.9152 - val_loss: 0.9208 - val_mean_squared_error: 0.9208\n",
      "Epoch 67/100\n",
      "10675632/10675632 [==============================] - 12s 1us/step - loss: 0.9150 - mean_squared_error: 0.9150 - val_loss: 0.9210 - val_mean_squared_error: 0.9210\n",
      "Epoch 68/100\n",
      "10675632/10675632 [==============================] - 12s 1us/step - loss: 0.9148 - mean_squared_error: 0.9148 - val_loss: 0.9212 - val_mean_squared_error: 0.9212\n",
      "Epoch 69/100\n",
      "10675632/10675632 [==============================] - 12s 1us/step - loss: 0.9147 - mean_squared_error: 0.9147 - val_loss: 0.9214 - val_mean_squared_error: 0.9214\n",
      "Epoch 70/100\n",
      "10675632/10675632 [==============================] - 13s 1us/step - loss: 0.9145 - mean_squared_error: 0.9145 - val_loss: 0.9216 - val_mean_squared_error: 0.9216\n",
      "Epoch 71/100\n",
      "10675632/10675632 [==============================] - 13s 1us/step - loss: 0.9143 - mean_squared_error: 0.9143 - val_loss: 0.9218 - val_mean_squared_error: 0.9218\n",
      "Epoch 72/100\n",
      "10675632/10675632 [==============================] - 12s 1us/step - loss: 0.9142 - mean_squared_error: 0.9142 - val_loss: 0.9221 - val_mean_squared_error: 0.9221\n",
      "Epoch 73/100\n",
      "10675632/10675632 [==============================] - 12s 1us/step - loss: 0.9140 - mean_squared_error: 0.9140 - val_loss: 0.9223 - val_mean_squared_error: 0.9223\n",
      "Epoch 74/100\n",
      "10675632/10675632 [==============================] - 12s 1us/step - loss: 0.9139 - mean_squared_error: 0.9139 - val_loss: 0.9225 - val_mean_squared_error: 0.9225\n",
      "Epoch 75/100\n",
      "10675632/10675632 [==============================] - 12s 1us/step - loss: 0.9137 - mean_squared_error: 0.9137 - val_loss: 0.9227 - val_mean_squared_error: 0.9227\n",
      "Epoch 76/100\n",
      "10675632/10675632 [==============================] - 12s 1us/step - loss: 0.9136 - mean_squared_error: 0.9136 - val_loss: 0.9229 - val_mean_squared_error: 0.9229\n",
      "Epoch 77/100\n",
      "10675632/10675632 [==============================] - 12s 1us/step - loss: 0.9135 - mean_squared_error: 0.9135 - val_loss: 0.9231 - val_mean_squared_error: 0.9231\n",
      "Epoch 78/100\n",
      "10675632/10675632 [==============================] - 12s 1us/step - loss: 0.9133 - mean_squared_error: 0.9133 - val_loss: 0.9233 - val_mean_squared_error: 0.9233\n",
      "Epoch 79/100\n",
      "10675632/10675632 [==============================] - 12s 1us/step - loss: 0.9132 - mean_squared_error: 0.9132 - val_loss: 0.9235 - val_mean_squared_error: 0.9235\n",
      "Epoch 80/100\n",
      "10675632/10675632 [==============================] - 12s 1us/step - loss: 0.9131 - mean_squared_error: 0.9131 - val_loss: 0.9237 - val_mean_squared_error: 0.9237\n",
      "Epoch 81/100\n",
      "10675632/10675632 [==============================] - 12s 1us/step - loss: 0.9129 - mean_squared_error: 0.9129 - val_loss: 0.9240 - val_mean_squared_error: 0.9240\n",
      "Epoch 82/100\n",
      "10675632/10675632 [==============================] - 12s 1us/step - loss: 0.9128 - mean_squared_error: 0.9128 - val_loss: 0.9242 - val_mean_squared_error: 0.9242\n",
      "Epoch 83/100\n",
      "10675632/10675632 [==============================] - 12s 1us/step - loss: 0.9127 - mean_squared_error: 0.9127 - val_loss: 0.9244 - val_mean_squared_error: 0.9244\n",
      "Epoch 84/100\n",
      "10675632/10675632 [==============================] - 12s 1us/step - loss: 0.9125 - mean_squared_error: 0.9125 - val_loss: 0.9245 - val_mean_squared_error: 0.9245\n",
      "Epoch 85/100\n",
      "10675632/10675632 [==============================] - 12s 1us/step - loss: 0.9124 - mean_squared_error: 0.9124 - val_loss: 0.9247 - val_mean_squared_error: 0.9247\n",
      "Epoch 86/100\n",
      "10675632/10675632 [==============================] - 13s 1us/step - loss: 0.9123 - mean_squared_error: 0.9123 - val_loss: 0.9250 - val_mean_squared_error: 0.9250\n",
      "Epoch 87/100\n",
      "10675632/10675632 [==============================] - 13s 1us/step - loss: 0.9122 - mean_squared_error: 0.9122 - val_loss: 0.9253 - val_mean_squared_error: 0.9253\n",
      "Epoch 88/100\n",
      "10675632/10675632 [==============================] - 13s 1us/step - loss: 0.9121 - mean_squared_error: 0.9121 - val_loss: 0.9255 - val_mean_squared_error: 0.9255\n",
      "Epoch 89/100\n",
      "10675632/10675632 [==============================] - 13s 1us/step - loss: 0.9120 - mean_squared_error: 0.9120 - val_loss: 0.9257 - val_mean_squared_error: 0.9257\n",
      "Epoch 90/100\n",
      "10675632/10675632 [==============================] - 13s 1us/step - loss: 0.9119 - mean_squared_error: 0.9119 - val_loss: 0.9259 - val_mean_squared_error: 0.9259\n",
      "Epoch 91/100\n",
      "10675632/10675632 [==============================] - 13s 1us/step - loss: 0.9117 - mean_squared_error: 0.9117 - val_loss: 0.9261 - val_mean_squared_error: 0.9261\n",
      "Epoch 92/100\n",
      "10675632/10675632 [==============================] - 13s 1us/step - loss: 0.9116 - mean_squared_error: 0.9116 - val_loss: 0.9263 - val_mean_squared_error: 0.9263\n",
      "Epoch 93/100\n",
      "10675632/10675632 [==============================] - 13s 1us/step - loss: 0.9115 - mean_squared_error: 0.9115 - val_loss: 0.9264 - val_mean_squared_error: 0.9264\n",
      "Epoch 94/100\n",
      "10675632/10675632 [==============================] - 13s 1us/step - loss: 0.9114 - mean_squared_error: 0.9114 - val_loss: 0.9266 - val_mean_squared_error: 0.9266\n",
      "Epoch 95/100\n",
      "10675632/10675632 [==============================] - 13s 1us/step - loss: 0.9113 - mean_squared_error: 0.9113 - val_loss: 0.9267 - val_mean_squared_error: 0.9267\n",
      "Epoch 96/100\n",
      "10675632/10675632 [==============================] - 13s 1us/step - loss: 0.9111 - mean_squared_error: 0.9111 - val_loss: 0.9268 - val_mean_squared_error: 0.9268\n",
      "Epoch 97/100\n",
      "10675632/10675632 [==============================] - 13s 1us/step - loss: 0.9110 - mean_squared_error: 0.9110 - val_loss: 0.9270 - val_mean_squared_error: 0.9270\n",
      "Epoch 98/100\n",
      "10675632/10675632 [==============================] - 13s 1us/step - loss: 0.9109 - mean_squared_error: 0.9109 - val_loss: 0.9271 - val_mean_squared_error: 0.9271\n",
      "Epoch 99/100\n",
      "10675632/10675632 [==============================] - 13s 1us/step - loss: 0.9108 - mean_squared_error: 0.9108 - val_loss: 0.9272 - val_mean_squared_error: 0.9272\n",
      "Epoch 100/100\n",
      "10675632/10675632 [==============================] - 13s 1us/step - loss: 0.9107 - mean_squared_error: 0.9107 - val_loss: 0.9274 - val_mean_squared_error: 0.9274\n"
     ]
    },
    {
     "data": {
      "text/plain": [
       "<keras.callbacks.History at 0x1554c3e48>"
      ]
     },
     "execution_count": 54,
     "metadata": {},
     "output_type": "execute_result"
    }
   ],
   "source": [
    "model = Sequential()\n",
    "model.add(Dense(20, input_dim=k_train.shape[1], kernel_initializer='uniform', activation='softplus'))\n",
    "model.add(Dense(10, kernel_initializer='uniform', activation='softplus'))\n",
    "model.add(Dense(1, kernel_initializer='uniform', activation = 'relu'))\n",
    "model.compile(loss='mse', optimizer='adam', metrics=['mse'])\n",
    "model.fit(k_train, Y_train, validation_data=(k_valid, Y_valid), verbose=1, epochs=100, batch_size = 64000, shuffle=False)"
   ]
  },
  {
   "cell_type": "code",
   "execution_count": 55,
   "metadata": {
    "collapsed": false
   },
   "outputs": [
    {
     "name": "stdout",
     "output_type": "stream",
     "text": [
      "Saved model to disk\n"
     ]
    }
   ],
   "source": [
    "# serialize model to JSON\n",
    "model_json = model.to_json()\n",
    "with open(\"keras_model.json\", \"w\") as json_file:\n",
    "    json_file.write(model_json)\n",
    "# serialize weights to HDF5\n",
    "model.save_weights(\"keras_model.h5\")\n",
    "print(\"Saved model to disk\")\n",
    "\n",
    "# #load json and create model\n",
    "#json_file = open('model.json', 'r')\n",
    "#loaded_model_json = json_file.read()\n",
    "#json_file.close()\n",
    "#loaded_model = model_from_json(loaded_model_json)\n",
    "# #load weights into new model\n",
    "#loaded_model.load_weights(\"model.h5\")\n",
    "#print(\"Loaded model from disk\")\n",
    "\n",
    "ke_train_pred = model.predict(k_train).clip(0, 20)\n",
    "ke_valid_pred = model.predict(k_valid).clip(0, 20)\n",
    "ke_test_pred  = model.predict(k_test ).clip(0, 20)"
   ]
  },
  {
   "cell_type": "code",
   "execution_count": 56,
   "metadata": {
    "collapsed": false
   },
   "outputs": [
    {
     "name": "stdout",
     "output_type": "stream",
     "text": [
      "rmsd_train:  0.9567405105746053\n",
      "rmsd_valid:  0.9627721208680589\n"
     ]
    }
   ],
   "source": [
    "rmsd_train = np.sqrt(mean_squared_error(Y_train, ke_train_pred))\n",
    "rmsd_valid = np.sqrt(mean_squared_error(Y_valid, ke_valid_pred))\n",
    "print(\"rmsd_train: \",rmsd_train)\n",
    "print(\"rmsd_valid: \",rmsd_valid)"
   ]
  },
  {
   "cell_type": "markdown",
   "metadata": {},
   "source": [
    "# Stacking"
   ]
  },
  {
   "cell_type": "code",
   "execution_count": 59,
   "metadata": {
    "collapsed": false
   },
   "outputs": [
    {
     "data": {
      "text/html": [
       "<div>\n",
       "<style scoped>\n",
       "    .dataframe tbody tr th:only-of-type {\n",
       "        vertical-align: middle;\n",
       "    }\n",
       "\n",
       "    .dataframe tbody tr th {\n",
       "        vertical-align: top;\n",
       "    }\n",
       "\n",
       "    .dataframe thead th {\n",
       "        text-align: right;\n",
       "    }\n",
       "</style>\n",
       "<table border=\"1\" class=\"dataframe\">\n",
       "  <thead>\n",
       "    <tr style=\"text-align: right;\">\n",
       "      <th></th>\n",
       "      <th>xgb_valid_pred</th>\n",
       "      <th>random_forest</th>\n",
       "      <th>linear_regression</th>\n",
       "      <th>keras</th>\n",
       "    </tr>\n",
       "  </thead>\n",
       "  <tbody>\n",
       "    <tr>\n",
       "      <th>0</th>\n",
       "      <td>0.013530</td>\n",
       "      <td>0.049946</td>\n",
       "      <td>0.002786</td>\n",
       "      <td>0.000000</td>\n",
       "    </tr>\n",
       "    <tr>\n",
       "      <th>1</th>\n",
       "      <td>0.057445</td>\n",
       "      <td>0.049946</td>\n",
       "      <td>-0.093293</td>\n",
       "      <td>0.000000</td>\n",
       "    </tr>\n",
       "    <tr>\n",
       "      <th>2</th>\n",
       "      <td>0.218300</td>\n",
       "      <td>0.299687</td>\n",
       "      <td>0.241091</td>\n",
       "      <td>0.290494</td>\n",
       "    </tr>\n",
       "    <tr>\n",
       "      <th>3</th>\n",
       "      <td>0.296320</td>\n",
       "      <td>0.313934</td>\n",
       "      <td>0.550439</td>\n",
       "      <td>0.464226</td>\n",
       "    </tr>\n",
       "    <tr>\n",
       "      <th>4</th>\n",
       "      <td>0.000000</td>\n",
       "      <td>0.210763</td>\n",
       "      <td>0.237018</td>\n",
       "      <td>0.000000</td>\n",
       "    </tr>\n",
       "  </tbody>\n",
       "</table>\n",
       "</div>"
      ],
      "text/plain": [
       "   xgb_valid_pred  random_forest  linear_regression     keras\n",
       "0        0.013530       0.049946           0.002786  0.000000\n",
       "1        0.057445       0.049946          -0.093293  0.000000\n",
       "2        0.218300       0.299687           0.241091  0.290494\n",
       "3        0.296320       0.313934           0.550439  0.464226\n",
       "4        0.000000       0.210763           0.237018  0.000000"
      ]
     },
     "execution_count": 59,
     "metadata": {},
     "output_type": "execute_result"
    }
   ],
   "source": [
    "first_level = pd.DataFrame(xgb_valid_pred, columns=['xgb_valid_pred'])\n",
    "first_level['random_forest'] = rf_valid_pred\n",
    "first_level['linear_regression'] = lr_valid_pred\n",
    "first_level['keras'] = ke_valid_pred\n",
    "first_level.head()"
   ]
  },
  {
   "cell_type": "code",
   "execution_count": 60,
   "metadata": {
    "collapsed": false
   },
   "outputs": [],
   "source": [
    "meta_model = LinearRegression(n_jobs=-1)\n",
    "meta_model.fit(first_level, Y_valid)\n",
    "\n",
    "# save prediction model\n",
    "filename = 'meta_model.sav'\n",
    "pickle.dump(meta_model, open(filename, 'wb'))\n",
    "\n",
    "# load the model from disk\n",
    "#meta_model = pickle.load(open(filename, 'rb'))"
   ]
  },
  {
   "cell_type": "code",
   "execution_count": 61,
   "metadata": {
    "collapsed": true
   },
   "outputs": [],
   "source": [
    "first_level_test = pd.DataFrame(xgb_test_pred, columns=['xgb_test_pred'])\n",
    "first_level_test['random_forest'] = rf_test_pred\n",
    "first_level_test['linear_regression'] = lr_test_pred\n",
    "first_level_test['keras'] = ke_test_pred\n",
    "Y_test = meta_model.predict(first_level_test).clip(0,20)"
   ]
  },
  {
   "cell_type": "code",
   "execution_count": 62,
   "metadata": {
    "collapsed": true
   },
   "outputs": [],
   "source": [
    "# adjusting by the leacked mean\n",
    "leack_mean = 0.2839365\n",
    "Y_test = Y_test + (-Y_test.mean() + leack_mean)"
   ]
  },
  {
   "cell_type": "code",
   "execution_count": 63,
   "metadata": {
    "collapsed": false
   },
   "outputs": [],
   "source": [
    "submission = pd.DataFrame({\n",
    "    \"ID\": test.index, \n",
    "    \"item_cnt_month\": Y_test\n",
    "})\n",
    "submission.to_csv('final_submission.csv', index=False)"
   ]
  },
  {
   "cell_type": "code",
   "execution_count": null,
   "metadata": {
    "collapsed": true
   },
   "outputs": [],
   "source": []
  }
 ],
 "metadata": {
  "kernelspec": {
   "display_name": "FinalProject",
   "language": "python",
   "name": "finalproject"
  },
  "language_info": {
   "codemirror_mode": {
    "name": "ipython",
    "version": 3
   },
   "file_extension": ".py",
   "mimetype": "text/x-python",
   "name": "python",
   "nbconvert_exporter": "python",
   "pygments_lexer": "ipython3",
   "version": "3.6.0"
  }
 },
 "nbformat": 4,
 "nbformat_minor": 0
}
